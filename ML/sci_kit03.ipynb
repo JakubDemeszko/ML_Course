{
  "nbformat": 4,
  "nbformat_minor": 0,
  "metadata": {
    "colab": {
      "provenance": [],
      "authorship_tag": "ABX9TyNlMfXy1SWjUZ7tZWRofRhF",
      "include_colab_link": true
    },
    "kernelspec": {
      "name": "python3",
      "display_name": "Python 3"
    },
    "language_info": {
      "name": "python"
    }
  },
  "cells": [
    {
      "cell_type": "markdown",
      "metadata": {
        "id": "view-in-github",
        "colab_type": "text"
      },
      "source": [
        "<a href=\"https://colab.research.google.com/github/JakubDemeszko/ML_Course/blob/main/ML/sci_kit03.ipynb\" target=\"_parent\"><img src=\"https://colab.research.google.com/assets/colab-badge.svg\" alt=\"Open In Colab\"/></a>"
      ]
    },
    {
      "cell_type": "code",
      "execution_count": null,
      "metadata": {
        "id": "nc70bnJjQ556"
      },
      "outputs": [],
      "source": [
        "import numpy as np\n",
        "import pandas as pd\n",
        "import plotly.express as px\n",
        "import plotly.graph_objects as go"
      ]
    },
    {
      "cell_type": "code",
      "source": [
        "y_true = 100 + 20 * np.random.randn(50)\n",
        "y_true"
      ],
      "metadata": {
        "colab": {
          "base_uri": "https://localhost:8080/"
        },
        "id": "BUNcbIZhRHjz",
        "outputId": "6868b37d-21fe-40e4-d2c4-4953348766d5"
      },
      "execution_count": null,
      "outputs": [
        {
          "output_type": "execute_result",
          "data": {
            "text/plain": [
              "array([105.74911739,  98.67614132,  85.63988913, 100.17631673,\n",
              "        88.43605014, 115.4299441 , 105.20028975,  99.47563034,\n",
              "        99.46505072,  89.89389638, 127.37969925, 124.10974758,\n",
              "       117.06967802, 113.37241858,  99.70015224, 135.29665576,\n",
              "        84.9236438 , 108.02274365,  82.96227222,  77.22000115,\n",
              "       101.24561543,  86.19183964, 109.40957541,  88.69423329,\n",
              "        99.01097394, 101.87807328,  75.85309215,  86.61120099,\n",
              "       106.26437667,  82.51822568,  95.94737294,  88.71451341,\n",
              "        78.2823183 ,  98.35292046,  71.02896432, 114.25196464,\n",
              "       139.96454223, 111.31383182,  95.67162302, 113.60837549,\n",
              "        98.7153868 , 110.71491271, 131.44205147,  59.4838422 ,\n",
              "       100.35371713,  96.02721934, 105.26659124, 103.94299067,\n",
              "       124.33289938,  89.67215514])"
            ]
          },
          "metadata": {},
          "execution_count": 3
        }
      ]
    },
    {
      "cell_type": "code",
      "source": [
        "y_pred = y_true + 10 * np.random.randn(50)\n",
        "y_pred"
      ],
      "metadata": {
        "colab": {
          "base_uri": "https://localhost:8080/"
        },
        "id": "_ln_BaxJROkf",
        "outputId": "e8904d51-d3ed-40fd-d24c-ba419d977adc"
      },
      "execution_count": null,
      "outputs": [
        {
          "output_type": "execute_result",
          "data": {
            "text/plain": [
              "array([120.64499056, 105.89967862, 102.95723785,  87.4116546 ,\n",
              "        90.04916437,  97.33215679, 124.51317008,  69.52902556,\n",
              "       122.81175753,  84.5558687 , 124.94251099, 119.32387636,\n",
              "       113.30346208, 116.38846673, 112.292661  , 143.79316381,\n",
              "        78.69930996,  98.75029986,  92.72498734,  67.72472897,\n",
              "       105.20487219,  85.42882586,  91.74036821,  75.28446926,\n",
              "        94.42862808, 100.71299966,  77.36880428,  85.34838922,\n",
              "        99.86197974,  74.43648761,  95.47286846,  86.20710542,\n",
              "        66.08052854, 102.08275059,  79.24756888, 121.9919971 ,\n",
              "       124.22013283,  86.11216429, 106.78474333, 116.4020137 ,\n",
              "        87.51985538, 104.84129793, 127.20763356,  54.83568447,\n",
              "        90.31533449,  93.2582641 , 121.05431778,  98.40207923,\n",
              "       111.33289991,  92.99457613])"
            ]
          },
          "metadata": {},
          "execution_count": 4
        }
      ]
    },
    {
      "cell_type": "code",
      "source": [
        "# Tworzenie DF\n",
        "results = pd.DataFrame(data = {'y_true': y_true,'y_pred': y_pred})\n",
        "results.head()"
      ],
      "metadata": {
        "colab": {
          "base_uri": "https://localhost:8080/",
          "height": 206
        },
        "id": "aMCieUxFRUZK",
        "outputId": "c3c9e310-05fd-4d0f-aebf-9e2e57ee8175"
      },
      "execution_count": null,
      "outputs": [
        {
          "output_type": "execute_result",
          "data": {
            "text/plain": [
              "       y_true      y_pred\n",
              "0  105.749117  120.644991\n",
              "1   98.676141  105.899679\n",
              "2   85.639889  102.957238\n",
              "3  100.176317   87.411655\n",
              "4   88.436050   90.049164"
            ],
            "text/html": [
              "\n",
              "  <div id=\"df-acdbe2ae-5a90-4dac-95c7-da2f2268fee6\" class=\"colab-df-container\">\n",
              "    <div>\n",
              "<style scoped>\n",
              "    .dataframe tbody tr th:only-of-type {\n",
              "        vertical-align: middle;\n",
              "    }\n",
              "\n",
              "    .dataframe tbody tr th {\n",
              "        vertical-align: top;\n",
              "    }\n",
              "\n",
              "    .dataframe thead th {\n",
              "        text-align: right;\n",
              "    }\n",
              "</style>\n",
              "<table border=\"1\" class=\"dataframe\">\n",
              "  <thead>\n",
              "    <tr style=\"text-align: right;\">\n",
              "      <th></th>\n",
              "      <th>y_true</th>\n",
              "      <th>y_pred</th>\n",
              "    </tr>\n",
              "  </thead>\n",
              "  <tbody>\n",
              "    <tr>\n",
              "      <th>0</th>\n",
              "      <td>105.749117</td>\n",
              "      <td>120.644991</td>\n",
              "    </tr>\n",
              "    <tr>\n",
              "      <th>1</th>\n",
              "      <td>98.676141</td>\n",
              "      <td>105.899679</td>\n",
              "    </tr>\n",
              "    <tr>\n",
              "      <th>2</th>\n",
              "      <td>85.639889</td>\n",
              "      <td>102.957238</td>\n",
              "    </tr>\n",
              "    <tr>\n",
              "      <th>3</th>\n",
              "      <td>100.176317</td>\n",
              "      <td>87.411655</td>\n",
              "    </tr>\n",
              "    <tr>\n",
              "      <th>4</th>\n",
              "      <td>88.436050</td>\n",
              "      <td>90.049164</td>\n",
              "    </tr>\n",
              "  </tbody>\n",
              "</table>\n",
              "</div>\n",
              "    <div class=\"colab-df-buttons\">\n",
              "\n",
              "  <div class=\"colab-df-container\">\n",
              "    <button class=\"colab-df-convert\" onclick=\"convertToInteractive('df-acdbe2ae-5a90-4dac-95c7-da2f2268fee6')\"\n",
              "            title=\"Convert this dataframe to an interactive table.\"\n",
              "            style=\"display:none;\">\n",
              "\n",
              "  <svg xmlns=\"http://www.w3.org/2000/svg\" height=\"24px\" viewBox=\"0 -960 960 960\">\n",
              "    <path d=\"M120-120v-720h720v720H120Zm60-500h600v-160H180v160Zm220 220h160v-160H400v160Zm0 220h160v-160H400v160ZM180-400h160v-160H180v160Zm440 0h160v-160H620v160ZM180-180h160v-160H180v160Zm440 0h160v-160H620v160Z\"/>\n",
              "  </svg>\n",
              "    </button>\n",
              "\n",
              "  <style>\n",
              "    .colab-df-container {\n",
              "      display:flex;\n",
              "      gap: 12px;\n",
              "    }\n",
              "\n",
              "    .colab-df-convert {\n",
              "      background-color: #E8F0FE;\n",
              "      border: none;\n",
              "      border-radius: 50%;\n",
              "      cursor: pointer;\n",
              "      display: none;\n",
              "      fill: #1967D2;\n",
              "      height: 32px;\n",
              "      padding: 0 0 0 0;\n",
              "      width: 32px;\n",
              "    }\n",
              "\n",
              "    .colab-df-convert:hover {\n",
              "      background-color: #E2EBFA;\n",
              "      box-shadow: 0px 1px 2px rgba(60, 64, 67, 0.3), 0px 1px 3px 1px rgba(60, 64, 67, 0.15);\n",
              "      fill: #174EA6;\n",
              "    }\n",
              "\n",
              "    .colab-df-buttons div {\n",
              "      margin-bottom: 4px;\n",
              "    }\n",
              "\n",
              "    [theme=dark] .colab-df-convert {\n",
              "      background-color: #3B4455;\n",
              "      fill: #D2E3FC;\n",
              "    }\n",
              "\n",
              "    [theme=dark] .colab-df-convert:hover {\n",
              "      background-color: #434B5C;\n",
              "      box-shadow: 0px 1px 3px 1px rgba(0, 0, 0, 0.15);\n",
              "      filter: drop-shadow(0px 1px 2px rgba(0, 0, 0, 0.3));\n",
              "      fill: #FFFFFF;\n",
              "    }\n",
              "  </style>\n",
              "\n",
              "    <script>\n",
              "      const buttonEl =\n",
              "        document.querySelector('#df-acdbe2ae-5a90-4dac-95c7-da2f2268fee6 button.colab-df-convert');\n",
              "      buttonEl.style.display =\n",
              "        google.colab.kernel.accessAllowed ? 'block' : 'none';\n",
              "\n",
              "      async function convertToInteractive(key) {\n",
              "        const element = document.querySelector('#df-acdbe2ae-5a90-4dac-95c7-da2f2268fee6');\n",
              "        const dataTable =\n",
              "          await google.colab.kernel.invokeFunction('convertToInteractive',\n",
              "                                                    [key], {});\n",
              "        if (!dataTable) return;\n",
              "\n",
              "        const docLinkHtml = 'Like what you see? Visit the ' +\n",
              "          '<a target=\"_blank\" href=https://colab.research.google.com/notebooks/data_table.ipynb>data table notebook</a>'\n",
              "          + ' to learn more about interactive tables.';\n",
              "        element.innerHTML = '';\n",
              "        dataTable['output_type'] = 'display_data';\n",
              "        await google.colab.output.renderOutput(dataTable, element);\n",
              "        const docLink = document.createElement('div');\n",
              "        docLink.innerHTML = docLinkHtml;\n",
              "        element.appendChild(docLink);\n",
              "      }\n",
              "    </script>\n",
              "  </div>\n",
              "\n",
              "\n",
              "<div id=\"df-18603982-1a3c-4f05-86a8-74729f1ef99b\">\n",
              "  <button class=\"colab-df-quickchart\" onclick=\"quickchart('df-18603982-1a3c-4f05-86a8-74729f1ef99b')\"\n",
              "            title=\"Suggest charts\"\n",
              "            style=\"display:none;\">\n",
              "\n",
              "<svg xmlns=\"http://www.w3.org/2000/svg\" height=\"24px\"viewBox=\"0 0 24 24\"\n",
              "     width=\"24px\">\n",
              "    <g>\n",
              "        <path d=\"M19 3H5c-1.1 0-2 .9-2 2v14c0 1.1.9 2 2 2h14c1.1 0 2-.9 2-2V5c0-1.1-.9-2-2-2zM9 17H7v-7h2v7zm4 0h-2V7h2v10zm4 0h-2v-4h2v4z\"/>\n",
              "    </g>\n",
              "</svg>\n",
              "  </button>\n",
              "\n",
              "<style>\n",
              "  .colab-df-quickchart {\n",
              "      --bg-color: #E8F0FE;\n",
              "      --fill-color: #1967D2;\n",
              "      --hover-bg-color: #E2EBFA;\n",
              "      --hover-fill-color: #174EA6;\n",
              "      --disabled-fill-color: #AAA;\n",
              "      --disabled-bg-color: #DDD;\n",
              "  }\n",
              "\n",
              "  [theme=dark] .colab-df-quickchart {\n",
              "      --bg-color: #3B4455;\n",
              "      --fill-color: #D2E3FC;\n",
              "      --hover-bg-color: #434B5C;\n",
              "      --hover-fill-color: #FFFFFF;\n",
              "      --disabled-bg-color: #3B4455;\n",
              "      --disabled-fill-color: #666;\n",
              "  }\n",
              "\n",
              "  .colab-df-quickchart {\n",
              "    background-color: var(--bg-color);\n",
              "    border: none;\n",
              "    border-radius: 50%;\n",
              "    cursor: pointer;\n",
              "    display: none;\n",
              "    fill: var(--fill-color);\n",
              "    height: 32px;\n",
              "    padding: 0;\n",
              "    width: 32px;\n",
              "  }\n",
              "\n",
              "  .colab-df-quickchart:hover {\n",
              "    background-color: var(--hover-bg-color);\n",
              "    box-shadow: 0 1px 2px rgba(60, 64, 67, 0.3), 0 1px 3px 1px rgba(60, 64, 67, 0.15);\n",
              "    fill: var(--button-hover-fill-color);\n",
              "  }\n",
              "\n",
              "  .colab-df-quickchart-complete:disabled,\n",
              "  .colab-df-quickchart-complete:disabled:hover {\n",
              "    background-color: var(--disabled-bg-color);\n",
              "    fill: var(--disabled-fill-color);\n",
              "    box-shadow: none;\n",
              "  }\n",
              "\n",
              "  .colab-df-spinner {\n",
              "    border: 2px solid var(--fill-color);\n",
              "    border-color: transparent;\n",
              "    border-bottom-color: var(--fill-color);\n",
              "    animation:\n",
              "      spin 1s steps(1) infinite;\n",
              "  }\n",
              "\n",
              "  @keyframes spin {\n",
              "    0% {\n",
              "      border-color: transparent;\n",
              "      border-bottom-color: var(--fill-color);\n",
              "      border-left-color: var(--fill-color);\n",
              "    }\n",
              "    20% {\n",
              "      border-color: transparent;\n",
              "      border-left-color: var(--fill-color);\n",
              "      border-top-color: var(--fill-color);\n",
              "    }\n",
              "    30% {\n",
              "      border-color: transparent;\n",
              "      border-left-color: var(--fill-color);\n",
              "      border-top-color: var(--fill-color);\n",
              "      border-right-color: var(--fill-color);\n",
              "    }\n",
              "    40% {\n",
              "      border-color: transparent;\n",
              "      border-right-color: var(--fill-color);\n",
              "      border-top-color: var(--fill-color);\n",
              "    }\n",
              "    60% {\n",
              "      border-color: transparent;\n",
              "      border-right-color: var(--fill-color);\n",
              "    }\n",
              "    80% {\n",
              "      border-color: transparent;\n",
              "      border-right-color: var(--fill-color);\n",
              "      border-bottom-color: var(--fill-color);\n",
              "    }\n",
              "    90% {\n",
              "      border-color: transparent;\n",
              "      border-bottom-color: var(--fill-color);\n",
              "    }\n",
              "  }\n",
              "</style>\n",
              "\n",
              "  <script>\n",
              "    async function quickchart(key) {\n",
              "      const quickchartButtonEl =\n",
              "        document.querySelector('#' + key + ' button');\n",
              "      quickchartButtonEl.disabled = true;  // To prevent multiple clicks.\n",
              "      quickchartButtonEl.classList.add('colab-df-spinner');\n",
              "      try {\n",
              "        const charts = await google.colab.kernel.invokeFunction(\n",
              "            'suggestCharts', [key], {});\n",
              "      } catch (error) {\n",
              "        console.error('Error during call to suggestCharts:', error);\n",
              "      }\n",
              "      quickchartButtonEl.classList.remove('colab-df-spinner');\n",
              "      quickchartButtonEl.classList.add('colab-df-quickchart-complete');\n",
              "    }\n",
              "    (() => {\n",
              "      let quickchartButtonEl =\n",
              "        document.querySelector('#df-18603982-1a3c-4f05-86a8-74729f1ef99b button');\n",
              "      quickchartButtonEl.style.display =\n",
              "        google.colab.kernel.accessAllowed ? 'block' : 'none';\n",
              "    })();\n",
              "  </script>\n",
              "</div>\n",
              "    </div>\n",
              "  </div>\n"
            ]
          },
          "metadata": {},
          "execution_count": 5
        }
      ]
    },
    {
      "cell_type": "code",
      "source": [
        "# Policzenie bledu\n",
        "results['error'] = results['y_true'] - results['y_pred']\n",
        "results.head()"
      ],
      "metadata": {
        "colab": {
          "base_uri": "https://localhost:8080/",
          "height": 206
        },
        "id": "w7t3Bn9zRkvX",
        "outputId": "e44e4ed7-b7bd-46fd-bc62-6213d62f9a23"
      },
      "execution_count": null,
      "outputs": [
        {
          "output_type": "execute_result",
          "data": {
            "text/plain": [
              "       y_true      y_pred      error\n",
              "0  105.749117  120.644991 -14.895873\n",
              "1   98.676141  105.899679  -7.223537\n",
              "2   85.639889  102.957238 -17.317349\n",
              "3  100.176317   87.411655  12.764662\n",
              "4   88.436050   90.049164  -1.613114"
            ],
            "text/html": [
              "\n",
              "  <div id=\"df-95828d01-ffb0-43f0-8f6b-d8e600e9c13d\" class=\"colab-df-container\">\n",
              "    <div>\n",
              "<style scoped>\n",
              "    .dataframe tbody tr th:only-of-type {\n",
              "        vertical-align: middle;\n",
              "    }\n",
              "\n",
              "    .dataframe tbody tr th {\n",
              "        vertical-align: top;\n",
              "    }\n",
              "\n",
              "    .dataframe thead th {\n",
              "        text-align: right;\n",
              "    }\n",
              "</style>\n",
              "<table border=\"1\" class=\"dataframe\">\n",
              "  <thead>\n",
              "    <tr style=\"text-align: right;\">\n",
              "      <th></th>\n",
              "      <th>y_true</th>\n",
              "      <th>y_pred</th>\n",
              "      <th>error</th>\n",
              "    </tr>\n",
              "  </thead>\n",
              "  <tbody>\n",
              "    <tr>\n",
              "      <th>0</th>\n",
              "      <td>105.749117</td>\n",
              "      <td>120.644991</td>\n",
              "      <td>-14.895873</td>\n",
              "    </tr>\n",
              "    <tr>\n",
              "      <th>1</th>\n",
              "      <td>98.676141</td>\n",
              "      <td>105.899679</td>\n",
              "      <td>-7.223537</td>\n",
              "    </tr>\n",
              "    <tr>\n",
              "      <th>2</th>\n",
              "      <td>85.639889</td>\n",
              "      <td>102.957238</td>\n",
              "      <td>-17.317349</td>\n",
              "    </tr>\n",
              "    <tr>\n",
              "      <th>3</th>\n",
              "      <td>100.176317</td>\n",
              "      <td>87.411655</td>\n",
              "      <td>12.764662</td>\n",
              "    </tr>\n",
              "    <tr>\n",
              "      <th>4</th>\n",
              "      <td>88.436050</td>\n",
              "      <td>90.049164</td>\n",
              "      <td>-1.613114</td>\n",
              "    </tr>\n",
              "  </tbody>\n",
              "</table>\n",
              "</div>\n",
              "    <div class=\"colab-df-buttons\">\n",
              "\n",
              "  <div class=\"colab-df-container\">\n",
              "    <button class=\"colab-df-convert\" onclick=\"convertToInteractive('df-95828d01-ffb0-43f0-8f6b-d8e600e9c13d')\"\n",
              "            title=\"Convert this dataframe to an interactive table.\"\n",
              "            style=\"display:none;\">\n",
              "\n",
              "  <svg xmlns=\"http://www.w3.org/2000/svg\" height=\"24px\" viewBox=\"0 -960 960 960\">\n",
              "    <path d=\"M120-120v-720h720v720H120Zm60-500h600v-160H180v160Zm220 220h160v-160H400v160Zm0 220h160v-160H400v160ZM180-400h160v-160H180v160Zm440 0h160v-160H620v160ZM180-180h160v-160H180v160Zm440 0h160v-160H620v160Z\"/>\n",
              "  </svg>\n",
              "    </button>\n",
              "\n",
              "  <style>\n",
              "    .colab-df-container {\n",
              "      display:flex;\n",
              "      gap: 12px;\n",
              "    }\n",
              "\n",
              "    .colab-df-convert {\n",
              "      background-color: #E8F0FE;\n",
              "      border: none;\n",
              "      border-radius: 50%;\n",
              "      cursor: pointer;\n",
              "      display: none;\n",
              "      fill: #1967D2;\n",
              "      height: 32px;\n",
              "      padding: 0 0 0 0;\n",
              "      width: 32px;\n",
              "    }\n",
              "\n",
              "    .colab-df-convert:hover {\n",
              "      background-color: #E2EBFA;\n",
              "      box-shadow: 0px 1px 2px rgba(60, 64, 67, 0.3), 0px 1px 3px 1px rgba(60, 64, 67, 0.15);\n",
              "      fill: #174EA6;\n",
              "    }\n",
              "\n",
              "    .colab-df-buttons div {\n",
              "      margin-bottom: 4px;\n",
              "    }\n",
              "\n",
              "    [theme=dark] .colab-df-convert {\n",
              "      background-color: #3B4455;\n",
              "      fill: #D2E3FC;\n",
              "    }\n",
              "\n",
              "    [theme=dark] .colab-df-convert:hover {\n",
              "      background-color: #434B5C;\n",
              "      box-shadow: 0px 1px 3px 1px rgba(0, 0, 0, 0.15);\n",
              "      filter: drop-shadow(0px 1px 2px rgba(0, 0, 0, 0.3));\n",
              "      fill: #FFFFFF;\n",
              "    }\n",
              "  </style>\n",
              "\n",
              "    <script>\n",
              "      const buttonEl =\n",
              "        document.querySelector('#df-95828d01-ffb0-43f0-8f6b-d8e600e9c13d button.colab-df-convert');\n",
              "      buttonEl.style.display =\n",
              "        google.colab.kernel.accessAllowed ? 'block' : 'none';\n",
              "\n",
              "      async function convertToInteractive(key) {\n",
              "        const element = document.querySelector('#df-95828d01-ffb0-43f0-8f6b-d8e600e9c13d');\n",
              "        const dataTable =\n",
              "          await google.colab.kernel.invokeFunction('convertToInteractive',\n",
              "                                                    [key], {});\n",
              "        if (!dataTable) return;\n",
              "\n",
              "        const docLinkHtml = 'Like what you see? Visit the ' +\n",
              "          '<a target=\"_blank\" href=https://colab.research.google.com/notebooks/data_table.ipynb>data table notebook</a>'\n",
              "          + ' to learn more about interactive tables.';\n",
              "        element.innerHTML = '';\n",
              "        dataTable['output_type'] = 'display_data';\n",
              "        await google.colab.output.renderOutput(dataTable, element);\n",
              "        const docLink = document.createElement('div');\n",
              "        docLink.innerHTML = docLinkHtml;\n",
              "        element.appendChild(docLink);\n",
              "      }\n",
              "    </script>\n",
              "  </div>\n",
              "\n",
              "\n",
              "<div id=\"df-671d8159-cb44-4eb3-b9f0-04a584fc28cb\">\n",
              "  <button class=\"colab-df-quickchart\" onclick=\"quickchart('df-671d8159-cb44-4eb3-b9f0-04a584fc28cb')\"\n",
              "            title=\"Suggest charts\"\n",
              "            style=\"display:none;\">\n",
              "\n",
              "<svg xmlns=\"http://www.w3.org/2000/svg\" height=\"24px\"viewBox=\"0 0 24 24\"\n",
              "     width=\"24px\">\n",
              "    <g>\n",
              "        <path d=\"M19 3H5c-1.1 0-2 .9-2 2v14c0 1.1.9 2 2 2h14c1.1 0 2-.9 2-2V5c0-1.1-.9-2-2-2zM9 17H7v-7h2v7zm4 0h-2V7h2v10zm4 0h-2v-4h2v4z\"/>\n",
              "    </g>\n",
              "</svg>\n",
              "  </button>\n",
              "\n",
              "<style>\n",
              "  .colab-df-quickchart {\n",
              "      --bg-color: #E8F0FE;\n",
              "      --fill-color: #1967D2;\n",
              "      --hover-bg-color: #E2EBFA;\n",
              "      --hover-fill-color: #174EA6;\n",
              "      --disabled-fill-color: #AAA;\n",
              "      --disabled-bg-color: #DDD;\n",
              "  }\n",
              "\n",
              "  [theme=dark] .colab-df-quickchart {\n",
              "      --bg-color: #3B4455;\n",
              "      --fill-color: #D2E3FC;\n",
              "      --hover-bg-color: #434B5C;\n",
              "      --hover-fill-color: #FFFFFF;\n",
              "      --disabled-bg-color: #3B4455;\n",
              "      --disabled-fill-color: #666;\n",
              "  }\n",
              "\n",
              "  .colab-df-quickchart {\n",
              "    background-color: var(--bg-color);\n",
              "    border: none;\n",
              "    border-radius: 50%;\n",
              "    cursor: pointer;\n",
              "    display: none;\n",
              "    fill: var(--fill-color);\n",
              "    height: 32px;\n",
              "    padding: 0;\n",
              "    width: 32px;\n",
              "  }\n",
              "\n",
              "  .colab-df-quickchart:hover {\n",
              "    background-color: var(--hover-bg-color);\n",
              "    box-shadow: 0 1px 2px rgba(60, 64, 67, 0.3), 0 1px 3px 1px rgba(60, 64, 67, 0.15);\n",
              "    fill: var(--button-hover-fill-color);\n",
              "  }\n",
              "\n",
              "  .colab-df-quickchart-complete:disabled,\n",
              "  .colab-df-quickchart-complete:disabled:hover {\n",
              "    background-color: var(--disabled-bg-color);\n",
              "    fill: var(--disabled-fill-color);\n",
              "    box-shadow: none;\n",
              "  }\n",
              "\n",
              "  .colab-df-spinner {\n",
              "    border: 2px solid var(--fill-color);\n",
              "    border-color: transparent;\n",
              "    border-bottom-color: var(--fill-color);\n",
              "    animation:\n",
              "      spin 1s steps(1) infinite;\n",
              "  }\n",
              "\n",
              "  @keyframes spin {\n",
              "    0% {\n",
              "      border-color: transparent;\n",
              "      border-bottom-color: var(--fill-color);\n",
              "      border-left-color: var(--fill-color);\n",
              "    }\n",
              "    20% {\n",
              "      border-color: transparent;\n",
              "      border-left-color: var(--fill-color);\n",
              "      border-top-color: var(--fill-color);\n",
              "    }\n",
              "    30% {\n",
              "      border-color: transparent;\n",
              "      border-left-color: var(--fill-color);\n",
              "      border-top-color: var(--fill-color);\n",
              "      border-right-color: var(--fill-color);\n",
              "    }\n",
              "    40% {\n",
              "      border-color: transparent;\n",
              "      border-right-color: var(--fill-color);\n",
              "      border-top-color: var(--fill-color);\n",
              "    }\n",
              "    60% {\n",
              "      border-color: transparent;\n",
              "      border-right-color: var(--fill-color);\n",
              "    }\n",
              "    80% {\n",
              "      border-color: transparent;\n",
              "      border-right-color: var(--fill-color);\n",
              "      border-bottom-color: var(--fill-color);\n",
              "    }\n",
              "    90% {\n",
              "      border-color: transparent;\n",
              "      border-bottom-color: var(--fill-color);\n",
              "    }\n",
              "  }\n",
              "</style>\n",
              "\n",
              "  <script>\n",
              "    async function quickchart(key) {\n",
              "      const quickchartButtonEl =\n",
              "        document.querySelector('#' + key + ' button');\n",
              "      quickchartButtonEl.disabled = true;  // To prevent multiple clicks.\n",
              "      quickchartButtonEl.classList.add('colab-df-spinner');\n",
              "      try {\n",
              "        const charts = await google.colab.kernel.invokeFunction(\n",
              "            'suggestCharts', [key], {});\n",
              "      } catch (error) {\n",
              "        console.error('Error during call to suggestCharts:', error);\n",
              "      }\n",
              "      quickchartButtonEl.classList.remove('colab-df-spinner');\n",
              "      quickchartButtonEl.classList.add('colab-df-quickchart-complete');\n",
              "    }\n",
              "    (() => {\n",
              "      let quickchartButtonEl =\n",
              "        document.querySelector('#df-671d8159-cb44-4eb3-b9f0-04a584fc28cb button');\n",
              "      quickchartButtonEl.style.display =\n",
              "        google.colab.kernel.accessAllowed ? 'block' : 'none';\n",
              "    })();\n",
              "  </script>\n",
              "</div>\n",
              "    </div>\n",
              "  </div>\n"
            ]
          },
          "metadata": {},
          "execution_count": 6
        }
      ]
    },
    {
      "cell_type": "code",
      "source": [
        "# Tworzenie wykresu regresji liniowej. Im dalej punkty od prostej - tym wiekszy blad\n",
        "def plot_regression_results(y_true, y_pred):\n",
        "  min = results[['y_true', 'y_pred']].min().min()\n",
        "  max = results[['y_true', 'y_pred']].max().max()\n",
        "\n",
        "  fig = go.Figure(data=[go.Scatter(x=results['y_true'], y=results['y_pred'], mode = 'markers'),\n",
        "                                    go.Scatter(x=[min,max], y=[min,max])],\n",
        "                                    layout = go.Layout(showlegend=False, width=800,\n",
        "                                                       xaxis_title='y_true',\n",
        "                                                       yaxis_title='y_pred',\n",
        "                                                       title='Regresja'))\n",
        "  fig.show()\n",
        "plot_regression_results(y_true, y_pred)"
      ],
      "metadata": {
        "colab": {
          "base_uri": "https://localhost:8080/",
          "height": 542
        },
        "id": "p2eqNYq6RuGR",
        "outputId": "4e2cdbf3-36b5-4dda-a63f-cc0046931d12"
      },
      "execution_count": null,
      "outputs": [
        {
          "output_type": "display_data",
          "data": {
            "text/html": [
              "<html>\n",
              "<head><meta charset=\"utf-8\" /></head>\n",
              "<body>\n",
              "    <div>            <script src=\"https://cdnjs.cloudflare.com/ajax/libs/mathjax/2.7.5/MathJax.js?config=TeX-AMS-MML_SVG\"></script><script type=\"text/javascript\">if (window.MathJax && window.MathJax.Hub && window.MathJax.Hub.Config) {window.MathJax.Hub.Config({SVG: {font: \"STIX-Web\"}});}</script>                <script type=\"text/javascript\">window.PlotlyConfig = {MathJaxConfig: 'local'};</script>\n",
              "        <script charset=\"utf-8\" src=\"https://cdn.plot.ly/plotly-2.24.1.min.js\"></script>                <div id=\"b368675b-856b-4843-9213-f361d859ffac\" class=\"plotly-graph-div\" style=\"height:525px; width:800px;\"></div>            <script type=\"text/javascript\">                                    window.PLOTLYENV=window.PLOTLYENV || {};                                    if (document.getElementById(\"b368675b-856b-4843-9213-f361d859ffac\")) {                    Plotly.newPlot(                        \"b368675b-856b-4843-9213-f361d859ffac\",                        [{\"mode\":\"markers\",\"x\":[105.74911739316406,98.67614131596373,85.63988912830925,100.17631673443559,88.4360501362684,115.4299441017643,105.2002897525915,99.47563034326447,99.46505072332432,89.89389637620089,127.37969925322676,124.10974757659592,117.06967802220092,113.37241858090695,99.70015224218794,135.29665576160755,84.92364379600268,108.02274365295237,82.96227222356214,77.22000114584071,101.24561542748341,86.19183964335375,109.40957540818218,88.69423329147932,99.0109739408729,101.878073284857,75.85309215095951,86.61120098706733,106.26437667451064,82.51822567533566,95.94737294090002,88.71451341467326,78.28231830005366,98.35292046116572,71.02896432248585,114.25196464033989,139.96454223000973,111.3138318164795,95.67162302346546,113.60837549460196,98.71538679618916,110.71491271310926,131.4420514695097,59.48384220251515,100.35371713201663,96.02721933603519,105.26659124173402,103.94299067005257,124.33289937922473,89.67215513811612],\"y\":[120.64499056098057,105.89967861852553,102.95723784572027,87.41165460190557,90.04916436983126,97.33215678831773,124.51317007659745,69.52902556326434,122.81175752711127,84.55586869591836,124.94251098712876,119.32387635713869,113.30346208127872,116.3884667292283,112.29266099676137,143.79316381296343,78.69930996173187,98.75029985627367,92.72498733829283,67.72472896832771,105.20487218757764,85.42882585848984,91.74036821102041,75.28446925664501,94.4286280820193,100.71299966200752,77.3688042843038,85.34838922188504,99.86197973542224,74.43648761410196,95.47286845791147,86.20710541958167,66.08052854163503,102.08275058656572,79.24756887963538,121.9919970951671,124.22013283209117,86.11216428761215,106.78474333105996,116.40201369630411,87.5198553780586,104.84129792735884,127.2076335589858,54.83568446508051,90.31533449072815,93.25826409594603,121.05431778137772,98.40207922995748,111.33289991293542,92.99457612841732],\"type\":\"scatter\"},{\"x\":[54.83568446508051,143.79316381296343],\"y\":[54.83568446508051,143.79316381296343],\"type\":\"scatter\"}],                        {\"showlegend\":false,\"title\":{\"text\":\"Regresja\"},\"width\":800,\"xaxis\":{\"title\":{\"text\":\"y_true\"}},\"yaxis\":{\"title\":{\"text\":\"y_pred\"}},\"template\":{\"data\":{\"histogram2dcontour\":[{\"type\":\"histogram2dcontour\",\"colorbar\":{\"outlinewidth\":0,\"ticks\":\"\"},\"colorscale\":[[0.0,\"#0d0887\"],[0.1111111111111111,\"#46039f\"],[0.2222222222222222,\"#7201a8\"],[0.3333333333333333,\"#9c179e\"],[0.4444444444444444,\"#bd3786\"],[0.5555555555555556,\"#d8576b\"],[0.6666666666666666,\"#ed7953\"],[0.7777777777777778,\"#fb9f3a\"],[0.8888888888888888,\"#fdca26\"],[1.0,\"#f0f921\"]]}],\"choropleth\":[{\"type\":\"choropleth\",\"colorbar\":{\"outlinewidth\":0,\"ticks\":\"\"}}],\"histogram2d\":[{\"type\":\"histogram2d\",\"colorbar\":{\"outlinewidth\":0,\"ticks\":\"\"},\"colorscale\":[[0.0,\"#0d0887\"],[0.1111111111111111,\"#46039f\"],[0.2222222222222222,\"#7201a8\"],[0.3333333333333333,\"#9c179e\"],[0.4444444444444444,\"#bd3786\"],[0.5555555555555556,\"#d8576b\"],[0.6666666666666666,\"#ed7953\"],[0.7777777777777778,\"#fb9f3a\"],[0.8888888888888888,\"#fdca26\"],[1.0,\"#f0f921\"]]}],\"heatmap\":[{\"type\":\"heatmap\",\"colorbar\":{\"outlinewidth\":0,\"ticks\":\"\"},\"colorscale\":[[0.0,\"#0d0887\"],[0.1111111111111111,\"#46039f\"],[0.2222222222222222,\"#7201a8\"],[0.3333333333333333,\"#9c179e\"],[0.4444444444444444,\"#bd3786\"],[0.5555555555555556,\"#d8576b\"],[0.6666666666666666,\"#ed7953\"],[0.7777777777777778,\"#fb9f3a\"],[0.8888888888888888,\"#fdca26\"],[1.0,\"#f0f921\"]]}],\"heatmapgl\":[{\"type\":\"heatmapgl\",\"colorbar\":{\"outlinewidth\":0,\"ticks\":\"\"},\"colorscale\":[[0.0,\"#0d0887\"],[0.1111111111111111,\"#46039f\"],[0.2222222222222222,\"#7201a8\"],[0.3333333333333333,\"#9c179e\"],[0.4444444444444444,\"#bd3786\"],[0.5555555555555556,\"#d8576b\"],[0.6666666666666666,\"#ed7953\"],[0.7777777777777778,\"#fb9f3a\"],[0.8888888888888888,\"#fdca26\"],[1.0,\"#f0f921\"]]}],\"contourcarpet\":[{\"type\":\"contourcarpet\",\"colorbar\":{\"outlinewidth\":0,\"ticks\":\"\"}}],\"contour\":[{\"type\":\"contour\",\"colorbar\":{\"outlinewidth\":0,\"ticks\":\"\"},\"colorscale\":[[0.0,\"#0d0887\"],[0.1111111111111111,\"#46039f\"],[0.2222222222222222,\"#7201a8\"],[0.3333333333333333,\"#9c179e\"],[0.4444444444444444,\"#bd3786\"],[0.5555555555555556,\"#d8576b\"],[0.6666666666666666,\"#ed7953\"],[0.7777777777777778,\"#fb9f3a\"],[0.8888888888888888,\"#fdca26\"],[1.0,\"#f0f921\"]]}],\"surface\":[{\"type\":\"surface\",\"colorbar\":{\"outlinewidth\":0,\"ticks\":\"\"},\"colorscale\":[[0.0,\"#0d0887\"],[0.1111111111111111,\"#46039f\"],[0.2222222222222222,\"#7201a8\"],[0.3333333333333333,\"#9c179e\"],[0.4444444444444444,\"#bd3786\"],[0.5555555555555556,\"#d8576b\"],[0.6666666666666666,\"#ed7953\"],[0.7777777777777778,\"#fb9f3a\"],[0.8888888888888888,\"#fdca26\"],[1.0,\"#f0f921\"]]}],\"mesh3d\":[{\"type\":\"mesh3d\",\"colorbar\":{\"outlinewidth\":0,\"ticks\":\"\"}}],\"scatter\":[{\"fillpattern\":{\"fillmode\":\"overlay\",\"size\":10,\"solidity\":0.2},\"type\":\"scatter\"}],\"parcoords\":[{\"type\":\"parcoords\",\"line\":{\"colorbar\":{\"outlinewidth\":0,\"ticks\":\"\"}}}],\"scatterpolargl\":[{\"type\":\"scatterpolargl\",\"marker\":{\"colorbar\":{\"outlinewidth\":0,\"ticks\":\"\"}}}],\"bar\":[{\"error_x\":{\"color\":\"#2a3f5f\"},\"error_y\":{\"color\":\"#2a3f5f\"},\"marker\":{\"line\":{\"color\":\"#E5ECF6\",\"width\":0.5},\"pattern\":{\"fillmode\":\"overlay\",\"size\":10,\"solidity\":0.2}},\"type\":\"bar\"}],\"scattergeo\":[{\"type\":\"scattergeo\",\"marker\":{\"colorbar\":{\"outlinewidth\":0,\"ticks\":\"\"}}}],\"scatterpolar\":[{\"type\":\"scatterpolar\",\"marker\":{\"colorbar\":{\"outlinewidth\":0,\"ticks\":\"\"}}}],\"histogram\":[{\"marker\":{\"pattern\":{\"fillmode\":\"overlay\",\"size\":10,\"solidity\":0.2}},\"type\":\"histogram\"}],\"scattergl\":[{\"type\":\"scattergl\",\"marker\":{\"colorbar\":{\"outlinewidth\":0,\"ticks\":\"\"}}}],\"scatter3d\":[{\"type\":\"scatter3d\",\"line\":{\"colorbar\":{\"outlinewidth\":0,\"ticks\":\"\"}},\"marker\":{\"colorbar\":{\"outlinewidth\":0,\"ticks\":\"\"}}}],\"scattermapbox\":[{\"type\":\"scattermapbox\",\"marker\":{\"colorbar\":{\"outlinewidth\":0,\"ticks\":\"\"}}}],\"scatterternary\":[{\"type\":\"scatterternary\",\"marker\":{\"colorbar\":{\"outlinewidth\":0,\"ticks\":\"\"}}}],\"scattercarpet\":[{\"type\":\"scattercarpet\",\"marker\":{\"colorbar\":{\"outlinewidth\":0,\"ticks\":\"\"}}}],\"carpet\":[{\"aaxis\":{\"endlinecolor\":\"#2a3f5f\",\"gridcolor\":\"white\",\"linecolor\":\"white\",\"minorgridcolor\":\"white\",\"startlinecolor\":\"#2a3f5f\"},\"baxis\":{\"endlinecolor\":\"#2a3f5f\",\"gridcolor\":\"white\",\"linecolor\":\"white\",\"minorgridcolor\":\"white\",\"startlinecolor\":\"#2a3f5f\"},\"type\":\"carpet\"}],\"table\":[{\"cells\":{\"fill\":{\"color\":\"#EBF0F8\"},\"line\":{\"color\":\"white\"}},\"header\":{\"fill\":{\"color\":\"#C8D4E3\"},\"line\":{\"color\":\"white\"}},\"type\":\"table\"}],\"barpolar\":[{\"marker\":{\"line\":{\"color\":\"#E5ECF6\",\"width\":0.5},\"pattern\":{\"fillmode\":\"overlay\",\"size\":10,\"solidity\":0.2}},\"type\":\"barpolar\"}],\"pie\":[{\"automargin\":true,\"type\":\"pie\"}]},\"layout\":{\"autotypenumbers\":\"strict\",\"colorway\":[\"#636efa\",\"#EF553B\",\"#00cc96\",\"#ab63fa\",\"#FFA15A\",\"#19d3f3\",\"#FF6692\",\"#B6E880\",\"#FF97FF\",\"#FECB52\"],\"font\":{\"color\":\"#2a3f5f\"},\"hovermode\":\"closest\",\"hoverlabel\":{\"align\":\"left\"},\"paper_bgcolor\":\"white\",\"plot_bgcolor\":\"#E5ECF6\",\"polar\":{\"bgcolor\":\"#E5ECF6\",\"angularaxis\":{\"gridcolor\":\"white\",\"linecolor\":\"white\",\"ticks\":\"\"},\"radialaxis\":{\"gridcolor\":\"white\",\"linecolor\":\"white\",\"ticks\":\"\"}},\"ternary\":{\"bgcolor\":\"#E5ECF6\",\"aaxis\":{\"gridcolor\":\"white\",\"linecolor\":\"white\",\"ticks\":\"\"},\"baxis\":{\"gridcolor\":\"white\",\"linecolor\":\"white\",\"ticks\":\"\"},\"caxis\":{\"gridcolor\":\"white\",\"linecolor\":\"white\",\"ticks\":\"\"}},\"coloraxis\":{\"colorbar\":{\"outlinewidth\":0,\"ticks\":\"\"}},\"colorscale\":{\"sequential\":[[0.0,\"#0d0887\"],[0.1111111111111111,\"#46039f\"],[0.2222222222222222,\"#7201a8\"],[0.3333333333333333,\"#9c179e\"],[0.4444444444444444,\"#bd3786\"],[0.5555555555555556,\"#d8576b\"],[0.6666666666666666,\"#ed7953\"],[0.7777777777777778,\"#fb9f3a\"],[0.8888888888888888,\"#fdca26\"],[1.0,\"#f0f921\"]],\"sequentialminus\":[[0.0,\"#0d0887\"],[0.1111111111111111,\"#46039f\"],[0.2222222222222222,\"#7201a8\"],[0.3333333333333333,\"#9c179e\"],[0.4444444444444444,\"#bd3786\"],[0.5555555555555556,\"#d8576b\"],[0.6666666666666666,\"#ed7953\"],[0.7777777777777778,\"#fb9f3a\"],[0.8888888888888888,\"#fdca26\"],[1.0,\"#f0f921\"]],\"diverging\":[[0,\"#8e0152\"],[0.1,\"#c51b7d\"],[0.2,\"#de77ae\"],[0.3,\"#f1b6da\"],[0.4,\"#fde0ef\"],[0.5,\"#f7f7f7\"],[0.6,\"#e6f5d0\"],[0.7,\"#b8e186\"],[0.8,\"#7fbc41\"],[0.9,\"#4d9221\"],[1,\"#276419\"]]},\"xaxis\":{\"gridcolor\":\"white\",\"linecolor\":\"white\",\"ticks\":\"\",\"title\":{\"standoff\":15},\"zerolinecolor\":\"white\",\"automargin\":true,\"zerolinewidth\":2},\"yaxis\":{\"gridcolor\":\"white\",\"linecolor\":\"white\",\"ticks\":\"\",\"title\":{\"standoff\":15},\"zerolinecolor\":\"white\",\"automargin\":true,\"zerolinewidth\":2},\"scene\":{\"xaxis\":{\"backgroundcolor\":\"#E5ECF6\",\"gridcolor\":\"white\",\"linecolor\":\"white\",\"showbackground\":true,\"ticks\":\"\",\"zerolinecolor\":\"white\",\"gridwidth\":2},\"yaxis\":{\"backgroundcolor\":\"#E5ECF6\",\"gridcolor\":\"white\",\"linecolor\":\"white\",\"showbackground\":true,\"ticks\":\"\",\"zerolinecolor\":\"white\",\"gridwidth\":2},\"zaxis\":{\"backgroundcolor\":\"#E5ECF6\",\"gridcolor\":\"white\",\"linecolor\":\"white\",\"showbackground\":true,\"ticks\":\"\",\"zerolinecolor\":\"white\",\"gridwidth\":2}},\"shapedefaults\":{\"line\":{\"color\":\"#2a3f5f\"}},\"annotationdefaults\":{\"arrowcolor\":\"#2a3f5f\",\"arrowhead\":0,\"arrowwidth\":1},\"geo\":{\"bgcolor\":\"white\",\"landcolor\":\"#E5ECF6\",\"subunitcolor\":\"white\",\"showland\":true,\"showlakes\":true,\"lakecolor\":\"white\"},\"title\":{\"x\":0.05},\"mapbox\":{\"style\":\"light\"}}}},                        {\"responsive\": true}                    ).then(function(){\n",
              "                            \n",
              "var gd = document.getElementById('b368675b-856b-4843-9213-f361d859ffac');\n",
              "var x = new MutationObserver(function (mutations, observer) {{\n",
              "        var display = window.getComputedStyle(gd).display;\n",
              "        if (!display || display === 'none') {{\n",
              "            console.log([gd, 'removed!']);\n",
              "            Plotly.purge(gd);\n",
              "            observer.disconnect();\n",
              "        }}\n",
              "}});\n",
              "\n",
              "// Listen for the removal of the full notebook cells\n",
              "var notebookContainer = gd.closest('#notebook-container');\n",
              "if (notebookContainer) {{\n",
              "    x.observe(notebookContainer, {childList: true});\n",
              "}}\n",
              "\n",
              "// Listen for the clearing of the current output cell\n",
              "var outputEl = gd.closest('.output');\n",
              "if (outputEl) {{\n",
              "    x.observe(outputEl, {childList: true});\n",
              "}}\n",
              "\n",
              "                        })                };                            </script>        </div>\n",
              "</body>\n",
              "</html>"
            ]
          },
          "metadata": {}
        }
      ]
    },
    {
      "cell_type": "code",
      "source": [
        "# Tworzenie histogramu dla bledu\n",
        "y_true = 100 + 20 * np.random.randn(1000)\n",
        "y_pred = y_true + 10 * np.random.randn(1000)\n",
        "results = pd.DataFrame(data = {'y_true': y_true,'y_pred': y_pred})\n",
        "results['error'] = results['y_true'] - results['y_pred']\n",
        "px.histogram(results, x='error', nbins=50, width=800)"
      ],
      "metadata": {
        "colab": {
          "base_uri": "https://localhost:8080/",
          "height": 542
        },
        "id": "9b7WSvGWT6-F",
        "outputId": "b1a22cfd-6a7b-4585-be53-a6460148d0c8"
      },
      "execution_count": null,
      "outputs": [
        {
          "output_type": "display_data",
          "data": {
            "text/html": [
              "<html>\n",
              "<head><meta charset=\"utf-8\" /></head>\n",
              "<body>\n",
              "    <div>            <script src=\"https://cdnjs.cloudflare.com/ajax/libs/mathjax/2.7.5/MathJax.js?config=TeX-AMS-MML_SVG\"></script><script type=\"text/javascript\">if (window.MathJax && window.MathJax.Hub && window.MathJax.Hub.Config) {window.MathJax.Hub.Config({SVG: {font: \"STIX-Web\"}});}</script>                <script type=\"text/javascript\">window.PlotlyConfig = {MathJaxConfig: 'local'};</script>\n",
              "        <script charset=\"utf-8\" src=\"https://cdn.plot.ly/plotly-2.24.1.min.js\"></script>                <div id=\"d9ff8145-17da-43f9-beee-a70ed4d2a397\" class=\"plotly-graph-div\" style=\"height:525px; width:800px;\"></div>            <script type=\"text/javascript\">                                    window.PLOTLYENV=window.PLOTLYENV || {};                                    if (document.getElementById(\"d9ff8145-17da-43f9-beee-a70ed4d2a397\")) {                    Plotly.newPlot(                        \"d9ff8145-17da-43f9-beee-a70ed4d2a397\",                        [{\"alignmentgroup\":\"True\",\"bingroup\":\"x\",\"hovertemplate\":\"error=%{x}\\u003cbr\\u003ecount=%{y}\\u003cextra\\u003e\\u003c\\u002fextra\\u003e\",\"legendgroup\":\"\",\"marker\":{\"color\":\"#636efa\",\"pattern\":{\"shape\":\"\"}},\"name\":\"\",\"nbinsx\":50,\"offsetgroup\":\"\",\"orientation\":\"v\",\"showlegend\":false,\"x\":[-3.856105000057383,-10.571923590573007,-15.260512646176068,-1.3811123298830523,8.344140724324703,8.755818530393611,-3.89640606232814,-2.4228294485235864,13.827047806464321,-12.657057500343754,-1.6870553504523116,8.164386786138422,9.556395219908907,-6.666565078703158,15.989657529710172,4.496539289739644,-2.55554076024049,4.090762138370621,-7.319063005858197,-6.428733554877979,4.406140288407059,1.7062149728147915,-15.19731252989206,2.7635729134117923,2.62396215323281,-5.526565859178518,-0.6256004207971841,-9.555192713352696,-2.8752650878774375,-0.8968988893915935,0.12256760879569129,-9.459802089011461,-8.086342635025687,4.198005929499374,-17.840974015642757,-3.637256246216964,2.7263292890895627,7.250773122338671,3.993959488997646,13.62823301298235,4.189833548578733,-16.21816977723614,9.423472050765682,12.591988479079973,8.6218655016405,-1.7805469596851111,-8.696438196813887,-20.95808342284745,-1.7599420874057756,-0.2761092738620192,-7.251904605584102,-0.6147394737928664,-7.0062136654662766,-9.168741004918132,13.401875220971732,-16.77737431170035,-12.020115156542929,12.233682019271782,-4.277708212962253,20.775370908612757,2.9865527703760506,-7.7042210613685995,14.404311339770075,20.245693781032486,1.9995111437176263,9.451108626147686,5.354226145417712,0.2292111665476,4.016132898159867,13.909331564841821,18.128689373322388,-12.051915264833909,-4.377981707913818,-5.397584535491831,-0.7007613420363441,-8.55308915725766,-16.84043573873447,-6.464809473002489,4.600733975455853,-6.8760429887595365,-19.479070896067526,-5.1484354703938635,-4.128887815934405,26.687208433013197,-2.8288093652725763,11.050981258685809,4.418593471528652,18.27682043416395,14.293696250170825,-9.656454180859953,-3.477913230729712,-6.492203283274364,-0.4597163934501509,10.250008006727583,11.483582408024674,-34.06811471658925,0.320628663448403,-0.5297818441951136,3.1224494058684655,-0.8930836339169304,-6.123289622868512,3.1609216902696176,-17.1311391871362,3.6590353504142286,-7.9553538831056585,-15.351089928941605,22.916841349048894,-11.2851987959302,-0.8032257034168708,-8.449920733717093,0.8726565562109982,9.752583624758778,2.084010724409353,-4.241999624982739,-2.489860776931792,6.21114698662646,1.6157558016715683,11.279713764600814,2.5374215724418576,-8.30482902502311,-2.875540231477501,3.2984255299060123,2.0050336183356734,-2.706109111453678,-13.330097751590046,5.875038241505294,5.933488840471682,-7.037059471658893,3.3591051076346616,25.256838004057443,-12.272367587169647,1.0432102670255006,-7.110813365476815,-7.165150654683146,4.929843143412057,13.718480810293187,-5.165653127247197,-0.6376557401934093,-9.188433592374565,20.018817475678688,15.633574365493779,-7.262824049072407,2.891992344890383,-14.222898024240891,3.1313351812895434,-2.654250902062273,-4.302865533770543,-4.980698996065428,10.267139255512731,-7.338067561859589,7.52197453453563,3.222747090484475,-4.093381361073597,-10.130469889796004,-2.277808130233865,5.389477825762725,-1.546011613247245,2.9267789543199996,4.106323431834959,-4.710492068733004,-1.5314581746774252,-2.74913249263075,-7.836424225238716,-3.1564669588945975,-7.756581408916887,-0.9136528196514604,-5.635694136118616,6.546442103499267,-14.96649361957948,-14.22649587932932,0.715960931716765,-5.396237267794646,-3.0493992163757184,-16.472964863022526,-19.136109107832226,10.517473191798729,-1.8565027229288376,13.394537731936765,-6.146264007817422,3.7637832099855046,23.75862473028596,0.6500924921325719,16.093638870714685,-7.502918855100418,9.957646305443163,16.055919487084907,-7.456099474467649,-3.8261939045020625,-4.220988434187888,2.587811518236961,-18.446896007275683,-10.167969852688543,0.7634758109653035,-8.569696092805856,7.779970199224493,11.226256170895766,6.202918466148958,1.8502669685279898,-9.12078547556213,-11.564020532967533,17.05735318908394,24.896584159820065,6.3267568168949,-2.808781769411084,16.68881219768771,-9.405273942097338,2.3139778905700865,4.55284309989473,-9.143028728230846,0.8621204750442857,-1.5916216533072571,8.59959768250313,-9.104902642730096,-2.3412040551942255,11.815553598652997,-5.943561219949203,-10.33671536449772,-1.547514876541669,-17.981943661737134,-23.212934483194573,41.33663014585163,-8.860602717263276,-5.776946579464777,-4.65147954484938,2.7160794694290047,1.234122858993814,14.195776386650806,-3.606998707359466,1.3730550899970098,-12.653355015291496,-9.589971938177435,1.0257163866712204,4.013499909222688,-3.6061438440483613,-11.217900778027229,-0.18600518267075472,-13.652108133013257,-1.2613780120359621,3.7964753592890474,23.32351657328218,-3.063610739367917,6.541810543330271,7.8708284089333205,22.03908424473049,-4.460318229958915,-8.6588946188985,0.8743562208417757,-5.244826345420492,18.248640317177106,-12.851975570314792,-0.8720470134688441,4.473945116404892,0.5035486769737076,-4.734699109412588,5.704488449822165,1.8594607600619497,28.761314506971644,5.786339585839173,21.09306657790202,-12.236983883363976,-0.5064831998726333,12.311967989441627,0.37977453832931474,-12.289781752923574,4.187433323277077,-9.500954142072416,19.534928046141317,0.294032253012503,-10.38085257560769,1.3214962207383536,0.8621648320729918,27.758295733105143,-6.421475136843739,15.469041657571083,4.5144676871097715,1.812822842250327,-3.6698958121941416,-0.8009915613930616,-6.135439537645908,3.488125559982848,6.815017659314208,-13.566313743873678,1.0062324276493655,5.961179930041041,16.050080295483653,-11.46320246324315,-8.462464148620938,-10.024215481839931,-17.74465821251195,13.530485507178426,-7.504168017567508,5.639390291791244,6.774569853536107,11.708637790748298,4.22344765157014,-6.494300918617668,-7.30001859700694,3.5297244888973722,0.8684280577598429,-1.6127607587351633,11.378212630088342,-2.2855708643051287,-15.756870597153465,-1.7005509013991258,-9.781346385325804,-3.6925660928133794,-1.461296988332407,-0.8726048085804621,13.210525077309839,-0.340310237906408,-6.970147412329965,3.566427408720628,4.146484989800456,6.971048691259824,-9.239808331747128,0.3155573096752988,3.104487641620736,-17.24558672473158,-9.426569366792094,-6.601612040254864,-0.9963273519425115,-5.133141649009701,6.124057780680062,-8.10019250165017,1.2780189220538318,-4.433988249462601,-9.574745247793544,-15.266094112954548,8.484202170647308,-3.2844978912843317,10.949888421217281,0.8191036590961573,28.025822568073778,16.261339730773543,-4.260199256332186,12.559632348524715,2.372988636812835,6.8657956584495565,7.06625213712784,0.9161293735031251,8.358313035596126,-0.5448651853235589,8.23294430218796,-6.950898006180509,11.006479584325064,3.4152155473818055,-11.953981479316255,9.098193276062574,-15.384322474747322,-13.281619835591727,-13.034221300464893,10.533238645703051,-19.228594161785608,5.145168946152253,1.8224235907318729,-10.972915081919183,-4.261932317541351,4.861897003105497,13.760905197437822,-10.812968147856324,7.2312669824337235,-3.952208295856366,13.959184434020386,5.629512203500113,-6.495284069325905,-13.825688172756955,-6.828541719419064,-16.982915856977613,5.472359330290956,4.365467544853502,-2.5905278157502636,-18.228676460058963,24.790145033561927,5.748183776468309,-1.3157207220074554,-14.392732411064571,10.82050449971959,7.187901805044248,2.5321663417654463,6.722295354698929,-9.581378097740028,18.312063547695523,-5.325573874430802,-6.83566750201129,20.548805141661845,-2.2643545165503838,0.6719594716949899,-1.6996266358940773,-7.657367604220866,-3.3484283503232035,-7.836421968100225,9.75886267463423,-11.476933464083132,1.6014358191043812,0.16838745562863267,9.313837857390283,5.539391105797833,2.877033156067867,8.933666838568968,2.0381495404026424,7.781964103761908,-8.618513054952103,4.142515994184748,15.098532050197235,1.555843996865221,-13.770883038317606,7.553835377437636,-12.574615254226643,19.703059874669975,11.179933068669982,-5.304519568291568,-1.8037197670830238,-2.618166072217136,7.826587341395779,-21.48856675493522,-4.395115151981912,-5.639320277241325,9.791603721336458,0.968861158025561,2.3817065429479527,-2.061891574636334,-7.160545811390122,0.8197018722347593,-2.4251616736915906,-16.464654091808086,-19.623778675918388,6.773403067728154,-14.038669554393223,8.453662644145908,-0.8039231642026436,-17.117828270838416,4.415106353326905,-15.86127094663371,10.429586802366742,8.82958426440237,0.5390768069171656,4.5405330123002585,-1.0920111113624955,10.056407680068602,13.725096337010797,6.045795546321443,3.8272884367219433,5.828518798230803,-13.42098244269306,6.081264561697537,-4.170584957323825,-2.411380726952075,-3.2840383825394923,-7.7620313712185265,-0.7156611364651724,-20.81376192329546,12.04554550647292,-1.4816194469915303,-1.1227504944766906,-3.6365334848556614,-0.8304709106942312,5.468438899504889,-3.3500025730287035,-6.982350942173838,-1.2511966482764052,-9.829358863312507,17.690782270552077,0.40790108496645416,-10.642242490339967,0.9216603189687902,-6.249102536801686,3.2495714535504447,8.750881735010907,15.875825828275055,11.576057636749312,14.621307234761588,-15.099059427994362,-9.091104148846874,-17.253379394458193,3.6163383866276035,5.939893087326098,3.144851132107661,-4.992940150938651,7.450862466912142,-0.6386469587466905,-15.904312144666704,7.592375156712407,14.296542301187216,0.6390465634610365,-1.5131151066326964,7.464231634727298,-17.68456248207704,-7.800007504266631,1.009205295657324,9.50704344066142,-7.614405586381039,10.900519419387422,-19.318560060325268,2.105585624469569,5.108629657161188,5.781685660925845,-9.244423122149556,-13.116351381009089,-17.36088004030654,-1.8253613376136997,3.0944939314669284,9.555973527267241,8.017552904346417,-3.662158016635331,-5.372692474224706,-2.856469212032792,-11.344810979322972,-3.9007861735123157,-2.2704983804958374,0.3890368330467595,4.246778688833814,-12.234215626271705,10.920769834953688,8.429875966243145,-2.982424155751872,-5.121717466393875,10.127152082279608,-13.083048103382879,24.750917297651753,-3.2241221424319093,6.026666629154889,8.977229997101176,7.541384159187203,-3.214757919521773,19.93621471379838,-20.59825391219063,-5.192709945784387,18.807335306058803,7.067688144307979,2.809180035187808,-0.9765084830791153,-5.311776845411856,11.550537674692222,3.170538554517691,-12.925786809530578,-6.465401899913729,-13.724148575095512,2.72136951279289,-0.2469765527357879,-0.8640645289690099,3.321730408800832,3.0425473825794427,10.192911890130816,-4.719302092871217,0.7746930002164021,8.696176468081518,-12.779720017173219,4.6911551860684995,4.430266637477857,17.033201153377156,-0.22982929092728455,-4.378676203666714,16.332526207588174,4.388925638307029,7.265092796558164,11.51276897986287,-1.3564843069141261,7.107676747310805,4.776331142779043,7.1819468099338195,14.079097270104398,1.892047183068243,-6.317442736529088,3.709539107016326,-4.02883451636626,8.22431077939602,-4.315415049465855,13.046553669852202,9.161392289403423,13.007000239180243,-1.4077191022390565,-0.6385058454773258,-13.439074115259132,5.782731441774175,5.6906841535231365,-15.143205727093573,-18.54609542647748,7.23839436181278,0.19081695546472588,-13.25850818347034,13.933549505997831,-5.367372380072567,20.55334088918204,4.190945831375018,3.0199224215778173,-8.566025480463722,5.992436944117287,17.493663028113815,-1.7966898433035112,15.314536618745635,15.006947106014437,6.491035805811649,7.4538316841725845,2.021200854083517,3.253262149429659,-10.104324642363864,-0.7415286879497103,-6.620500480455036,-6.469369686044743,-0.4099733031692949,10.107975151493548,-1.887723390000815,-0.8160235567223708,-4.534520334069484,-13.522639924451553,-12.340595255157695,-4.628260189671408,9.934881483865965,16.242960422363566,-1.8163780369616376,3.7050212454950895,14.80653765788469,-7.699188435005794,-16.506834571392247,1.9469418913627266,1.218722042366494,6.800170166627211,-16.847012759802553,-18.666904847816028,-4.5938039899031935,2.4629745982267934,23.706433050108828,11.952520583728528,12.159608423463112,7.066924654190018,-5.559171959001645,-31.327700641217675,8.209930960168435,-11.899003368233068,11.006373327198048,5.7106405528545565,9.692010640753153,-4.024362685252427,-12.30428036116895,7.8121803499161615,2.963281591160836,36.83752258759465,-12.148059005301988,-7.692056785409818,-9.063292567473994,9.520879765750067,-19.449179944505886,-14.360888280135342,-11.559299987597555,-13.2220706580473,7.715676354975798,0.17234879352699295,-19.631451418160495,9.924897784826797,-5.241881097346891,-3.6835058273213974,-14.905289412991692,-0.6001649736765984,9.231570564360524,3.6004346106901437,-20.712584874692695,15.505264124710969,-9.60737682278318,2.026157389215811,-0.7828246338713001,-4.374860373662543,-12.016223624673543,-10.626589965270071,13.991198647031013,6.63065193850899,4.2495151342046,9.565089097877305,5.6264355473944505,1.112714352032171,-13.437196878954197,-17.08928125217585,6.6370832203182175,2.0720433669113447,10.585644523867671,-5.042336767220988,14.112667507731288,0.6227479034818089,11.507181015981246,-13.64337175168852,4.48412256105469,9.408661720215363,11.607956504380724,7.552235987953168,-7.459062029809473,1.8572410895911702,7.038259621927722,1.8738289749280597,-7.016476482551695,2.061101212101164,-0.08057192235413879,9.95822832813758,-6.190057608217515,-12.840332194868964,3.2167679255219497,1.7293731210207426,9.513972310109992,1.9536644338183038,-20.22142707668567,1.3102695299533877,-7.061965808883841,-0.5683734216746643,-7.27152495952798,3.5039181594083146,15.002546746099448,13.047319345460195,-1.8147767826299628,3.673930127568852,0.23940155956533715,1.9985395109439992,-12.27137614219518,6.080322405497753,12.710968271130199,3.094584233294725,-7.098841057225641,13.117310312108216,-4.987177269639744,-0.48597992545001034,2.9098287549024917,-5.4479376137452675,7.343200669029059,3.423206386994053,2.3666276123660737,-15.865844932420742,1.880033430276299,3.9154870593846027,17.61853942638325,9.220688037395718,1.6285478957342576,2.5149995817756405,9.217826286950235,-1.1796323641793407,-10.137771107352634,-4.071175342786461,5.10803544463181,4.022443931295953,15.99481870810628,-5.193517448199387,9.440938872923368,-2.5243536220917093,-13.068801535082116,-19.851536301065522,-6.675500327068988,4.941801258445082,0.23697205342493532,5.107155096885407,-5.875954991623985,-3.1036286076487443,9.584585038707957,6.3874983100234175,3.2449046226431477,2.9717523763720664,2.557983751796698,13.218995362575072,-1.5636008189029837,1.9006477954160914,8.772924045330456,-4.626474359889741,4.444835421540532,13.29302852011078,-14.633753747404313,3.4960793631680502,15.295752407863645,-9.953101449994207,10.024530654496374,15.735035716146982,-1.2872980428122105,-6.346693795077471,-4.3012990121436445,-2.023010130474475,-5.149801204226023,-13.723230813150622,-2.1128650431485596,8.592832183878215,-23.678117213681972,11.506224585251985,0.42244213417806975,-10.067642185730804,4.436365832992024,22.150376636103218,7.718476790733078,15.505045735112418,-3.1429483387475585,2.0704377813189296,7.951972050739386,9.512447543727546,-3.718515530741115,1.179311414297672,17.042855787642097,9.628189689362088,7.678409421992534,-7.175689929924999,7.165975163780061,5.393203969549006,8.939523944593248,13.984818059750495,0.12584357671450164,23.0767722225796,9.911202615905708,-0.13454027282419645,9.390033687199391,6.488649748653671,-2.405758105080821,13.867397695144263,14.200497379340106,-11.288039635656062,-13.176229271144692,-10.718967277753634,-2.6988669510066643,-19.246075362516564,13.224076429463281,-5.642483976862906,2.4798428996754467,-13.78374002236012,5.983189364154384,3.9032780820024513,12.963445795688472,3.4248177280744727,-11.187590785322925,16.06881639880706,10.035502148646444,-1.7785479344197057,-12.59156703337247,14.592374743582823,-3.067019540800203,-5.057768206236304,-9.716490260483198,15.546850283818173,-5.058428594653648,1.4079252157154798,-2.065882514365029,0.5081308244024569,1.3376715090886648,-10.514850209822754,-15.080521043904696,3.8257892997206397,-10.026271012337062,6.4874150388480984,-6.839639321934811,23.970396302550824,-3.64153888108072,12.390905607861612,12.231280782680457,14.463187949601064,-6.561629601473456,-11.333644819815078,3.865236676937087,18.854547293373557,-2.558798112087544,-17.182301179612367,-8.635126610378435,5.525174023703173,-5.994655626124967,-11.930127168384487,5.146130920797745,22.64458810086056,6.676498784992489,-3.4102710693414053,26.02401615599598,3.330698729743915,1.3053912292835292,17.26128224628785,-13.123953497267237,3.9474397397206786,10.891709117681941,-6.029528802706508,9.342924842800002,-7.766867038592778,-11.039346125258817,18.804619152522577,-11.401328209172462,15.767977817850195,16.83192880040103,-0.17297941678711481,0.7025948908757442,10.228826403421294,1.5091217406309596,-1.7331994249547193,-0.6427882060333445,15.103737211492685,17.07730607116268,3.4440162529983382,-10.212595747327342,-8.437162521680065,-15.194358547997439,9.860891329562477,13.262274315534256,1.7147156789333025,4.100521117366583,7.175629642892517,4.091093728386795,6.026079837325582,-1.0578596164289067,10.10003132814758,-9.168916001223934,1.1970991116186553,9.512426779947845,8.949001114155479,1.2843422277287289,-13.69927757306749,4.696279854218588,0.8847369398357188,-8.734163007019063,-0.4202745953291753,-20.401945482077295,4.309210059390267,-24.87799959017272,-5.42771873328725,21.170915578639836,-4.886722731300296,2.5374222993148408,-10.023506357586328,-15.82391058657008,3.5318834170962106,-16.05468265545747,-0.14013664778620694,-10.7858354692859,5.146861350087278,-31.156728213174787,-8.008414004092003,1.5620907038689467,-18.86698027518898,7.626865415233738,14.81009834043941,-4.573804632822032,16.607518399612417,-9.886783252079496,-4.634468809281017,-5.520421257488707,-0.8283556143393866,3.684674319831103,-23.478646603571235,-1.7220578454177655,-17.042114023301963,21.566018223291408,-3.3325508326918936,3.55286615161657,-2.2973116362009023,-7.082656901589047,9.272853210965735,-2.067021881928298,6.5129463214288705,1.5075656214442574,-17.41560849281717,10.411500212879432,2.7108694566599354,-1.5207259869728915,-2.2671742261649683,-21.178211295637652,-4.000096206506441,11.172902891423192,-17.165872158455088,-9.096520664919566,-10.509356752872733,23.79081664701137,-9.803175746478956,-5.160177270418302,4.644591253762599,-8.656895635884311,12.470579134987716,5.889886879880194,-10.688531149735994,-17.60976159148713,-10.203832089204951,-4.823583662586628,2.3293960069166673,-16.453425493918076,-11.599896192622253,2.162415462477867,-4.119400288303581,0.6653878012515122,-22.5492566818817,7.421896802660015,-4.301648884568607,-8.135068427700574,4.825724792883577,-11.887623826356503,13.270415380621728,8.427235611012392,-11.843920221702547,6.174833872848552,-6.470301022885337,0.07947169224961215,0.997877158123913,25.268510656183068,6.194335219769954,-10.92617129433826,-9.7860860007751,5.654843806394766,11.62221279943661,-2.6622765233952776,7.938659335091614,0.5275717084491873,-17.74991979708315,14.583813438313257,7.867811012988298,2.3454850131827527,-13.663958281997978,-2.346305051872619,-20.40655862061317,-9.88576591051796],\"xaxis\":\"x\",\"yaxis\":\"y\",\"type\":\"histogram\"}],                        {\"template\":{\"data\":{\"histogram2dcontour\":[{\"type\":\"histogram2dcontour\",\"colorbar\":{\"outlinewidth\":0,\"ticks\":\"\"},\"colorscale\":[[0.0,\"#0d0887\"],[0.1111111111111111,\"#46039f\"],[0.2222222222222222,\"#7201a8\"],[0.3333333333333333,\"#9c179e\"],[0.4444444444444444,\"#bd3786\"],[0.5555555555555556,\"#d8576b\"],[0.6666666666666666,\"#ed7953\"],[0.7777777777777778,\"#fb9f3a\"],[0.8888888888888888,\"#fdca26\"],[1.0,\"#f0f921\"]]}],\"choropleth\":[{\"type\":\"choropleth\",\"colorbar\":{\"outlinewidth\":0,\"ticks\":\"\"}}],\"histogram2d\":[{\"type\":\"histogram2d\",\"colorbar\":{\"outlinewidth\":0,\"ticks\":\"\"},\"colorscale\":[[0.0,\"#0d0887\"],[0.1111111111111111,\"#46039f\"],[0.2222222222222222,\"#7201a8\"],[0.3333333333333333,\"#9c179e\"],[0.4444444444444444,\"#bd3786\"],[0.5555555555555556,\"#d8576b\"],[0.6666666666666666,\"#ed7953\"],[0.7777777777777778,\"#fb9f3a\"],[0.8888888888888888,\"#fdca26\"],[1.0,\"#f0f921\"]]}],\"heatmap\":[{\"type\":\"heatmap\",\"colorbar\":{\"outlinewidth\":0,\"ticks\":\"\"},\"colorscale\":[[0.0,\"#0d0887\"],[0.1111111111111111,\"#46039f\"],[0.2222222222222222,\"#7201a8\"],[0.3333333333333333,\"#9c179e\"],[0.4444444444444444,\"#bd3786\"],[0.5555555555555556,\"#d8576b\"],[0.6666666666666666,\"#ed7953\"],[0.7777777777777778,\"#fb9f3a\"],[0.8888888888888888,\"#fdca26\"],[1.0,\"#f0f921\"]]}],\"heatmapgl\":[{\"type\":\"heatmapgl\",\"colorbar\":{\"outlinewidth\":0,\"ticks\":\"\"},\"colorscale\":[[0.0,\"#0d0887\"],[0.1111111111111111,\"#46039f\"],[0.2222222222222222,\"#7201a8\"],[0.3333333333333333,\"#9c179e\"],[0.4444444444444444,\"#bd3786\"],[0.5555555555555556,\"#d8576b\"],[0.6666666666666666,\"#ed7953\"],[0.7777777777777778,\"#fb9f3a\"],[0.8888888888888888,\"#fdca26\"],[1.0,\"#f0f921\"]]}],\"contourcarpet\":[{\"type\":\"contourcarpet\",\"colorbar\":{\"outlinewidth\":0,\"ticks\":\"\"}}],\"contour\":[{\"type\":\"contour\",\"colorbar\":{\"outlinewidth\":0,\"ticks\":\"\"},\"colorscale\":[[0.0,\"#0d0887\"],[0.1111111111111111,\"#46039f\"],[0.2222222222222222,\"#7201a8\"],[0.3333333333333333,\"#9c179e\"],[0.4444444444444444,\"#bd3786\"],[0.5555555555555556,\"#d8576b\"],[0.6666666666666666,\"#ed7953\"],[0.7777777777777778,\"#fb9f3a\"],[0.8888888888888888,\"#fdca26\"],[1.0,\"#f0f921\"]]}],\"surface\":[{\"type\":\"surface\",\"colorbar\":{\"outlinewidth\":0,\"ticks\":\"\"},\"colorscale\":[[0.0,\"#0d0887\"],[0.1111111111111111,\"#46039f\"],[0.2222222222222222,\"#7201a8\"],[0.3333333333333333,\"#9c179e\"],[0.4444444444444444,\"#bd3786\"],[0.5555555555555556,\"#d8576b\"],[0.6666666666666666,\"#ed7953\"],[0.7777777777777778,\"#fb9f3a\"],[0.8888888888888888,\"#fdca26\"],[1.0,\"#f0f921\"]]}],\"mesh3d\":[{\"type\":\"mesh3d\",\"colorbar\":{\"outlinewidth\":0,\"ticks\":\"\"}}],\"scatter\":[{\"fillpattern\":{\"fillmode\":\"overlay\",\"size\":10,\"solidity\":0.2},\"type\":\"scatter\"}],\"parcoords\":[{\"type\":\"parcoords\",\"line\":{\"colorbar\":{\"outlinewidth\":0,\"ticks\":\"\"}}}],\"scatterpolargl\":[{\"type\":\"scatterpolargl\",\"marker\":{\"colorbar\":{\"outlinewidth\":0,\"ticks\":\"\"}}}],\"bar\":[{\"error_x\":{\"color\":\"#2a3f5f\"},\"error_y\":{\"color\":\"#2a3f5f\"},\"marker\":{\"line\":{\"color\":\"#E5ECF6\",\"width\":0.5},\"pattern\":{\"fillmode\":\"overlay\",\"size\":10,\"solidity\":0.2}},\"type\":\"bar\"}],\"scattergeo\":[{\"type\":\"scattergeo\",\"marker\":{\"colorbar\":{\"outlinewidth\":0,\"ticks\":\"\"}}}],\"scatterpolar\":[{\"type\":\"scatterpolar\",\"marker\":{\"colorbar\":{\"outlinewidth\":0,\"ticks\":\"\"}}}],\"histogram\":[{\"marker\":{\"pattern\":{\"fillmode\":\"overlay\",\"size\":10,\"solidity\":0.2}},\"type\":\"histogram\"}],\"scattergl\":[{\"type\":\"scattergl\",\"marker\":{\"colorbar\":{\"outlinewidth\":0,\"ticks\":\"\"}}}],\"scatter3d\":[{\"type\":\"scatter3d\",\"line\":{\"colorbar\":{\"outlinewidth\":0,\"ticks\":\"\"}},\"marker\":{\"colorbar\":{\"outlinewidth\":0,\"ticks\":\"\"}}}],\"scattermapbox\":[{\"type\":\"scattermapbox\",\"marker\":{\"colorbar\":{\"outlinewidth\":0,\"ticks\":\"\"}}}],\"scatterternary\":[{\"type\":\"scatterternary\",\"marker\":{\"colorbar\":{\"outlinewidth\":0,\"ticks\":\"\"}}}],\"scattercarpet\":[{\"type\":\"scattercarpet\",\"marker\":{\"colorbar\":{\"outlinewidth\":0,\"ticks\":\"\"}}}],\"carpet\":[{\"aaxis\":{\"endlinecolor\":\"#2a3f5f\",\"gridcolor\":\"white\",\"linecolor\":\"white\",\"minorgridcolor\":\"white\",\"startlinecolor\":\"#2a3f5f\"},\"baxis\":{\"endlinecolor\":\"#2a3f5f\",\"gridcolor\":\"white\",\"linecolor\":\"white\",\"minorgridcolor\":\"white\",\"startlinecolor\":\"#2a3f5f\"},\"type\":\"carpet\"}],\"table\":[{\"cells\":{\"fill\":{\"color\":\"#EBF0F8\"},\"line\":{\"color\":\"white\"}},\"header\":{\"fill\":{\"color\":\"#C8D4E3\"},\"line\":{\"color\":\"white\"}},\"type\":\"table\"}],\"barpolar\":[{\"marker\":{\"line\":{\"color\":\"#E5ECF6\",\"width\":0.5},\"pattern\":{\"fillmode\":\"overlay\",\"size\":10,\"solidity\":0.2}},\"type\":\"barpolar\"}],\"pie\":[{\"automargin\":true,\"type\":\"pie\"}]},\"layout\":{\"autotypenumbers\":\"strict\",\"colorway\":[\"#636efa\",\"#EF553B\",\"#00cc96\",\"#ab63fa\",\"#FFA15A\",\"#19d3f3\",\"#FF6692\",\"#B6E880\",\"#FF97FF\",\"#FECB52\"],\"font\":{\"color\":\"#2a3f5f\"},\"hovermode\":\"closest\",\"hoverlabel\":{\"align\":\"left\"},\"paper_bgcolor\":\"white\",\"plot_bgcolor\":\"#E5ECF6\",\"polar\":{\"bgcolor\":\"#E5ECF6\",\"angularaxis\":{\"gridcolor\":\"white\",\"linecolor\":\"white\",\"ticks\":\"\"},\"radialaxis\":{\"gridcolor\":\"white\",\"linecolor\":\"white\",\"ticks\":\"\"}},\"ternary\":{\"bgcolor\":\"#E5ECF6\",\"aaxis\":{\"gridcolor\":\"white\",\"linecolor\":\"white\",\"ticks\":\"\"},\"baxis\":{\"gridcolor\":\"white\",\"linecolor\":\"white\",\"ticks\":\"\"},\"caxis\":{\"gridcolor\":\"white\",\"linecolor\":\"white\",\"ticks\":\"\"}},\"coloraxis\":{\"colorbar\":{\"outlinewidth\":0,\"ticks\":\"\"}},\"colorscale\":{\"sequential\":[[0.0,\"#0d0887\"],[0.1111111111111111,\"#46039f\"],[0.2222222222222222,\"#7201a8\"],[0.3333333333333333,\"#9c179e\"],[0.4444444444444444,\"#bd3786\"],[0.5555555555555556,\"#d8576b\"],[0.6666666666666666,\"#ed7953\"],[0.7777777777777778,\"#fb9f3a\"],[0.8888888888888888,\"#fdca26\"],[1.0,\"#f0f921\"]],\"sequentialminus\":[[0.0,\"#0d0887\"],[0.1111111111111111,\"#46039f\"],[0.2222222222222222,\"#7201a8\"],[0.3333333333333333,\"#9c179e\"],[0.4444444444444444,\"#bd3786\"],[0.5555555555555556,\"#d8576b\"],[0.6666666666666666,\"#ed7953\"],[0.7777777777777778,\"#fb9f3a\"],[0.8888888888888888,\"#fdca26\"],[1.0,\"#f0f921\"]],\"diverging\":[[0,\"#8e0152\"],[0.1,\"#c51b7d\"],[0.2,\"#de77ae\"],[0.3,\"#f1b6da\"],[0.4,\"#fde0ef\"],[0.5,\"#f7f7f7\"],[0.6,\"#e6f5d0\"],[0.7,\"#b8e186\"],[0.8,\"#7fbc41\"],[0.9,\"#4d9221\"],[1,\"#276419\"]]},\"xaxis\":{\"gridcolor\":\"white\",\"linecolor\":\"white\",\"ticks\":\"\",\"title\":{\"standoff\":15},\"zerolinecolor\":\"white\",\"automargin\":true,\"zerolinewidth\":2},\"yaxis\":{\"gridcolor\":\"white\",\"linecolor\":\"white\",\"ticks\":\"\",\"title\":{\"standoff\":15},\"zerolinecolor\":\"white\",\"automargin\":true,\"zerolinewidth\":2},\"scene\":{\"xaxis\":{\"backgroundcolor\":\"#E5ECF6\",\"gridcolor\":\"white\",\"linecolor\":\"white\",\"showbackground\":true,\"ticks\":\"\",\"zerolinecolor\":\"white\",\"gridwidth\":2},\"yaxis\":{\"backgroundcolor\":\"#E5ECF6\",\"gridcolor\":\"white\",\"linecolor\":\"white\",\"showbackground\":true,\"ticks\":\"\",\"zerolinecolor\":\"white\",\"gridwidth\":2},\"zaxis\":{\"backgroundcolor\":\"#E5ECF6\",\"gridcolor\":\"white\",\"linecolor\":\"white\",\"showbackground\":true,\"ticks\":\"\",\"zerolinecolor\":\"white\",\"gridwidth\":2}},\"shapedefaults\":{\"line\":{\"color\":\"#2a3f5f\"}},\"annotationdefaults\":{\"arrowcolor\":\"#2a3f5f\",\"arrowhead\":0,\"arrowwidth\":1},\"geo\":{\"bgcolor\":\"white\",\"landcolor\":\"#E5ECF6\",\"subunitcolor\":\"white\",\"showland\":true,\"showlakes\":true,\"lakecolor\":\"white\"},\"title\":{\"x\":0.05},\"mapbox\":{\"style\":\"light\"}}},\"xaxis\":{\"anchor\":\"y\",\"domain\":[0.0,1.0],\"title\":{\"text\":\"error\"}},\"yaxis\":{\"anchor\":\"x\",\"domain\":[0.0,1.0],\"title\":{\"text\":\"count\"}},\"legend\":{\"tracegroupgap\":0},\"margin\":{\"t\":60},\"barmode\":\"relative\",\"width\":800},                        {\"responsive\": true}                    ).then(function(){\n",
              "                            \n",
              "var gd = document.getElementById('d9ff8145-17da-43f9-beee-a70ed4d2a397');\n",
              "var x = new MutationObserver(function (mutations, observer) {{\n",
              "        var display = window.getComputedStyle(gd).display;\n",
              "        if (!display || display === 'none') {{\n",
              "            console.log([gd, 'removed!']);\n",
              "            Plotly.purge(gd);\n",
              "            observer.disconnect();\n",
              "        }}\n",
              "}});\n",
              "\n",
              "// Listen for the removal of the full notebook cells\n",
              "var notebookContainer = gd.closest('#notebook-container');\n",
              "if (notebookContainer) {{\n",
              "    x.observe(notebookContainer, {childList: true});\n",
              "}}\n",
              "\n",
              "// Listen for the clearing of the current output cell\n",
              "var outputEl = gd.closest('.output');\n",
              "if (outputEl) {{\n",
              "    x.observe(outputEl, {childList: true});\n",
              "}}\n",
              "\n",
              "                        })                };                            </script>        </div>\n",
              "</body>\n",
              "</html>"
            ]
          },
          "metadata": {}
        }
      ]
    },
    {
      "cell_type": "code",
      "source": [
        "# Sredni blad bezwzgledny - sredni blad\n",
        "def mean_absolute_error(y_true, y_pred):\n",
        "  return abs(y_true - y_pred).sum() / len(y_true)\n",
        "mean_absolute_error(y_true,y_pred)"
      ],
      "metadata": {
        "colab": {
          "base_uri": "https://localhost:8080/"
        },
        "id": "Uk5DOca0VFug",
        "outputId": "27549af2-c2c7-4594-ed18-57028474ded9"
      },
      "execution_count": null,
      "outputs": [
        {
          "output_type": "execute_result",
          "data": {
            "text/plain": [
              "8.112272679019405"
            ]
          },
          "metadata": {},
          "execution_count": 11
        }
      ]
    },
    {
      "cell_type": "code",
      "source": [
        "# Blad sredniokwadratowy - tutaj wieksze bledy sa bardziej karane\n",
        "from sklearn.metrics import mean_squared_error\n",
        "mean_squared_error(y_true, y_pred)"
      ],
      "metadata": {
        "colab": {
          "base_uri": "https://localhost:8080/"
        },
        "id": "2porsNgFVbok",
        "outputId": "98d7c13c-35c2-4343-9a50-c037070410d9"
      },
      "execution_count": null,
      "outputs": [
        {
          "output_type": "execute_result",
          "data": {
            "text/plain": [
              "104.10137674218663"
            ]
          },
          "metadata": {},
          "execution_count": 14
        }
      ]
    },
    {
      "cell_type": "code",
      "source": [
        "# Pierwiastek bledu sredniokwadratowego - pokazuje sredni blad - tyle srednio odbiegaja od prawdziwych\n",
        "np.sqrt(mean_squared_error(y_true, y_pred))"
      ],
      "metadata": {
        "colab": {
          "base_uri": "https://localhost:8080/"
        },
        "id": "unOR-YvSWOv6",
        "outputId": "7fa5d649-2a24-4725-a132-0186b7c48d51"
      },
      "execution_count": null,
      "outputs": [
        {
          "output_type": "execute_result",
          "data": {
            "text/plain": [
              "10.203008220235178"
            ]
          },
          "metadata": {},
          "execution_count": 15
        }
      ]
    },
    {
      "cell_type": "code",
      "source": [
        "# Blad maksymalny - maksymalny blad w modelu\n",
        "from sklearn.metrics import max_error\n",
        "\n",
        "max_error(y_true, y_pred)"
      ],
      "metadata": {
        "colab": {
          "base_uri": "https://localhost:8080/"
        },
        "id": "3WEA5_bQWcxI",
        "outputId": "f33ad451-9afd-4a2a-cad1-5829a42ad253"
      },
      "execution_count": null,
      "outputs": [
        {
          "output_type": "execute_result",
          "data": {
            "text/plain": [
              "41.33663014585163"
            ]
          },
          "metadata": {},
          "execution_count": 16
        }
      ]
    },
    {
      "cell_type": "code",
      "source": [
        "# R2 score - wspolczynnik determinancji - chcemy aby tu bylo jak najblizej do 1\n",
        "from sklearn.metrics import r2_score\n",
        "r2_score(y_true, y_pred)"
      ],
      "metadata": {
        "colab": {
          "base_uri": "https://localhost:8080/"
        },
        "id": "v8JKmHcNWjoK",
        "outputId": "10beac1c-e9cd-4b44-a76a-3adcd8b515ac"
      },
      "execution_count": null,
      "outputs": [
        {
          "output_type": "execute_result",
          "data": {
            "text/plain": [
              "0.7327225789356239"
            ]
          },
          "metadata": {},
          "execution_count": 17
        }
      ]
    }
  ]
}