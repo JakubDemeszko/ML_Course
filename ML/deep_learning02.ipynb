{
  "nbformat": 4,
  "nbformat_minor": 0,
  "metadata": {
    "colab": {
      "provenance": [],
      "authorship_tag": "ABX9TyPziL5ek2s68hmUYGIYkX+z",
      "include_colab_link": true
    },
    "kernelspec": {
      "name": "python3",
      "display_name": "Python 3"
    },
    "language_info": {
      "name": "python"
    }
  },
  "cells": [
    {
      "cell_type": "markdown",
      "metadata": {
        "id": "view-in-github",
        "colab_type": "text"
      },
      "source": [
        "<a href=\"https://colab.research.google.com/github/JakubDemeszko/ML_Course/blob/main/ML/deep_learning02.ipynb\" target=\"_parent\"><img src=\"https://colab.research.google.com/assets/colab-badge.svg\" alt=\"Open In Colab\"/></a>"
      ]
    },
    {
      "cell_type": "code",
      "execution_count": 1,
      "metadata": {
        "id": "CnAu52G6iYpY"
      },
      "outputs": [],
      "source": [
        "import tensorflow as tf\n",
        "import numpy as np\n",
        "import pandas as pd\n",
        "import plotly.express as px"
      ]
    },
    {
      "cell_type": "code",
      "source": [
        "from tensorflow.keras.models import Sequential\n",
        "model = Sequential()\n",
        "print(model)"
      ],
      "metadata": {
        "colab": {
          "base_uri": "https://localhost:8080/"
        },
        "id": "GGERmIh1jCFU",
        "outputId": "a4815593-45cc-4ac6-d39c-38ceacf56a32"
      },
      "execution_count": 2,
      "outputs": [
        {
          "output_type": "stream",
          "name": "stdout",
          "text": [
            "<keras.src.engine.sequential.Sequential object at 0x78062d19d6f0>\n"
          ]
        }
      ]
    },
    {
      "cell_type": "code",
      "source": [
        "# Siec budujemy dodajac wartstwy. Warstwa gesto polaczona to Dense, uzywamy funkcji add\n",
        "# Units to liczba neuronow, w 1 wartswie podajemy input shape - liczba cech charakterystycznych\n",
        "# w przypadku obrazow podajemy wymiar obrazow\n",
        "from tensorflow.keras.layers import Dense\n",
        "model.add(Dense(units = 4, input_shape=(10,)))"
      ],
      "metadata": {
        "id": "eWyWz8WajQX3"
      },
      "execution_count": 4,
      "outputs": []
    },
    {
      "cell_type": "code",
      "source": [
        "model.summary()"
      ],
      "metadata": {
        "colab": {
          "base_uri": "https://localhost:8080/"
        },
        "id": "Ou7v1Igvj6ZN",
        "outputId": "a5e8ec10-6273-4c0c-bf2c-c13186f1a644"
      },
      "execution_count": 5,
      "outputs": [
        {
          "output_type": "stream",
          "name": "stdout",
          "text": [
            "Model: \"sequential\"\n",
            "_________________________________________________________________\n",
            " Layer (type)                Output Shape              Param #   \n",
            "=================================================================\n",
            " dense (Dense)               (None, 4)                 44        \n",
            "                                                                 \n",
            "=================================================================\n",
            "Total params: 44 (176.00 Byte)\n",
            "Trainable params: 44 (176.00 Byte)\n",
            "Non-trainable params: 0 (0.00 Byte)\n",
            "_________________________________________________________________\n"
          ]
        }
      ]
    },
    {
      "cell_type": "code",
      "source": [
        "# Dodanie kolejnej warstwy\n",
        "model.add(Dense(units = 2))\n",
        "model.summary()"
      ],
      "metadata": {
        "colab": {
          "base_uri": "https://localhost:8080/"
        },
        "id": "yKDD9ic6kGtR",
        "outputId": "34795f14-25e1-492f-9ec7-29123c97aa4e"
      },
      "execution_count": 6,
      "outputs": [
        {
          "output_type": "stream",
          "name": "stdout",
          "text": [
            "Model: \"sequential\"\n",
            "_________________________________________________________________\n",
            " Layer (type)                Output Shape              Param #   \n",
            "=================================================================\n",
            " dense (Dense)               (None, 4)                 44        \n",
            "                                                                 \n",
            " dense_1 (Dense)             (None, 2)                 10        \n",
            "                                                                 \n",
            "=================================================================\n",
            "Total params: 54 (216.00 Byte)\n",
            "Trainable params: 54 (216.00 Byte)\n",
            "Non-trainable params: 0 (0.00 Byte)\n",
            "_________________________________________________________________\n"
          ]
        }
      ]
    },
    {
      "cell_type": "code",
      "source": [
        "# Funkcje aktywacji, pozwala nam wrzucic neurony do uczenia, np relu zeruje wartosci ujemne\n",
        "from tensorflow.keras.activations import linear\n",
        "random_data = np.linspace(start = -3, stop = 3, num = 300)\n",
        "data = pd.DataFrame({'data': random_data, 'linear': linear(random_data)})\n",
        "data.head()"
      ],
      "metadata": {
        "colab": {
          "base_uri": "https://localhost:8080/",
          "height": 206
        },
        "id": "yZleZRxhkymc",
        "outputId": "e8456c29-25ad-46e9-bcc5-f1b2aa82dacc"
      },
      "execution_count": 7,
      "outputs": [
        {
          "output_type": "execute_result",
          "data": {
            "text/plain": [
              "       data    linear\n",
              "0 -3.000000 -3.000000\n",
              "1 -2.979933 -2.979933\n",
              "2 -2.959866 -2.959866\n",
              "3 -2.939799 -2.939799\n",
              "4 -2.919732 -2.919732"
            ],
            "text/html": [
              "\n",
              "  <div id=\"df-08b0b2b5-e602-4ed7-b976-7f01610ccdbe\" class=\"colab-df-container\">\n",
              "    <div>\n",
              "<style scoped>\n",
              "    .dataframe tbody tr th:only-of-type {\n",
              "        vertical-align: middle;\n",
              "    }\n",
              "\n",
              "    .dataframe tbody tr th {\n",
              "        vertical-align: top;\n",
              "    }\n",
              "\n",
              "    .dataframe thead th {\n",
              "        text-align: right;\n",
              "    }\n",
              "</style>\n",
              "<table border=\"1\" class=\"dataframe\">\n",
              "  <thead>\n",
              "    <tr style=\"text-align: right;\">\n",
              "      <th></th>\n",
              "      <th>data</th>\n",
              "      <th>linear</th>\n",
              "    </tr>\n",
              "  </thead>\n",
              "  <tbody>\n",
              "    <tr>\n",
              "      <th>0</th>\n",
              "      <td>-3.000000</td>\n",
              "      <td>-3.000000</td>\n",
              "    </tr>\n",
              "    <tr>\n",
              "      <th>1</th>\n",
              "      <td>-2.979933</td>\n",
              "      <td>-2.979933</td>\n",
              "    </tr>\n",
              "    <tr>\n",
              "      <th>2</th>\n",
              "      <td>-2.959866</td>\n",
              "      <td>-2.959866</td>\n",
              "    </tr>\n",
              "    <tr>\n",
              "      <th>3</th>\n",
              "      <td>-2.939799</td>\n",
              "      <td>-2.939799</td>\n",
              "    </tr>\n",
              "    <tr>\n",
              "      <th>4</th>\n",
              "      <td>-2.919732</td>\n",
              "      <td>-2.919732</td>\n",
              "    </tr>\n",
              "  </tbody>\n",
              "</table>\n",
              "</div>\n",
              "    <div class=\"colab-df-buttons\">\n",
              "\n",
              "  <div class=\"colab-df-container\">\n",
              "    <button class=\"colab-df-convert\" onclick=\"convertToInteractive('df-08b0b2b5-e602-4ed7-b976-7f01610ccdbe')\"\n",
              "            title=\"Convert this dataframe to an interactive table.\"\n",
              "            style=\"display:none;\">\n",
              "\n",
              "  <svg xmlns=\"http://www.w3.org/2000/svg\" height=\"24px\" viewBox=\"0 -960 960 960\">\n",
              "    <path d=\"M120-120v-720h720v720H120Zm60-500h600v-160H180v160Zm220 220h160v-160H400v160Zm0 220h160v-160H400v160ZM180-400h160v-160H180v160Zm440 0h160v-160H620v160ZM180-180h160v-160H180v160Zm440 0h160v-160H620v160Z\"/>\n",
              "  </svg>\n",
              "    </button>\n",
              "\n",
              "  <style>\n",
              "    .colab-df-container {\n",
              "      display:flex;\n",
              "      gap: 12px;\n",
              "    }\n",
              "\n",
              "    .colab-df-convert {\n",
              "      background-color: #E8F0FE;\n",
              "      border: none;\n",
              "      border-radius: 50%;\n",
              "      cursor: pointer;\n",
              "      display: none;\n",
              "      fill: #1967D2;\n",
              "      height: 32px;\n",
              "      padding: 0 0 0 0;\n",
              "      width: 32px;\n",
              "    }\n",
              "\n",
              "    .colab-df-convert:hover {\n",
              "      background-color: #E2EBFA;\n",
              "      box-shadow: 0px 1px 2px rgba(60, 64, 67, 0.3), 0px 1px 3px 1px rgba(60, 64, 67, 0.15);\n",
              "      fill: #174EA6;\n",
              "    }\n",
              "\n",
              "    .colab-df-buttons div {\n",
              "      margin-bottom: 4px;\n",
              "    }\n",
              "\n",
              "    [theme=dark] .colab-df-convert {\n",
              "      background-color: #3B4455;\n",
              "      fill: #D2E3FC;\n",
              "    }\n",
              "\n",
              "    [theme=dark] .colab-df-convert:hover {\n",
              "      background-color: #434B5C;\n",
              "      box-shadow: 0px 1px 3px 1px rgba(0, 0, 0, 0.15);\n",
              "      filter: drop-shadow(0px 1px 2px rgba(0, 0, 0, 0.3));\n",
              "      fill: #FFFFFF;\n",
              "    }\n",
              "  </style>\n",
              "\n",
              "    <script>\n",
              "      const buttonEl =\n",
              "        document.querySelector('#df-08b0b2b5-e602-4ed7-b976-7f01610ccdbe button.colab-df-convert');\n",
              "      buttonEl.style.display =\n",
              "        google.colab.kernel.accessAllowed ? 'block' : 'none';\n",
              "\n",
              "      async function convertToInteractive(key) {\n",
              "        const element = document.querySelector('#df-08b0b2b5-e602-4ed7-b976-7f01610ccdbe');\n",
              "        const dataTable =\n",
              "          await google.colab.kernel.invokeFunction('convertToInteractive',\n",
              "                                                    [key], {});\n",
              "        if (!dataTable) return;\n",
              "\n",
              "        const docLinkHtml = 'Like what you see? Visit the ' +\n",
              "          '<a target=\"_blank\" href=https://colab.research.google.com/notebooks/data_table.ipynb>data table notebook</a>'\n",
              "          + ' to learn more about interactive tables.';\n",
              "        element.innerHTML = '';\n",
              "        dataTable['output_type'] = 'display_data';\n",
              "        await google.colab.output.renderOutput(dataTable, element);\n",
              "        const docLink = document.createElement('div');\n",
              "        docLink.innerHTML = docLinkHtml;\n",
              "        element.appendChild(docLink);\n",
              "      }\n",
              "    </script>\n",
              "  </div>\n",
              "\n",
              "\n",
              "<div id=\"df-c2f925ae-e9ef-4e5b-98a7-ab7ac2197806\">\n",
              "  <button class=\"colab-df-quickchart\" onclick=\"quickchart('df-c2f925ae-e9ef-4e5b-98a7-ab7ac2197806')\"\n",
              "            title=\"Suggest charts\"\n",
              "            style=\"display:none;\">\n",
              "\n",
              "<svg xmlns=\"http://www.w3.org/2000/svg\" height=\"24px\"viewBox=\"0 0 24 24\"\n",
              "     width=\"24px\">\n",
              "    <g>\n",
              "        <path d=\"M19 3H5c-1.1 0-2 .9-2 2v14c0 1.1.9 2 2 2h14c1.1 0 2-.9 2-2V5c0-1.1-.9-2-2-2zM9 17H7v-7h2v7zm4 0h-2V7h2v10zm4 0h-2v-4h2v4z\"/>\n",
              "    </g>\n",
              "</svg>\n",
              "  </button>\n",
              "\n",
              "<style>\n",
              "  .colab-df-quickchart {\n",
              "      --bg-color: #E8F0FE;\n",
              "      --fill-color: #1967D2;\n",
              "      --hover-bg-color: #E2EBFA;\n",
              "      --hover-fill-color: #174EA6;\n",
              "      --disabled-fill-color: #AAA;\n",
              "      --disabled-bg-color: #DDD;\n",
              "  }\n",
              "\n",
              "  [theme=dark] .colab-df-quickchart {\n",
              "      --bg-color: #3B4455;\n",
              "      --fill-color: #D2E3FC;\n",
              "      --hover-bg-color: #434B5C;\n",
              "      --hover-fill-color: #FFFFFF;\n",
              "      --disabled-bg-color: #3B4455;\n",
              "      --disabled-fill-color: #666;\n",
              "  }\n",
              "\n",
              "  .colab-df-quickchart {\n",
              "    background-color: var(--bg-color);\n",
              "    border: none;\n",
              "    border-radius: 50%;\n",
              "    cursor: pointer;\n",
              "    display: none;\n",
              "    fill: var(--fill-color);\n",
              "    height: 32px;\n",
              "    padding: 0;\n",
              "    width: 32px;\n",
              "  }\n",
              "\n",
              "  .colab-df-quickchart:hover {\n",
              "    background-color: var(--hover-bg-color);\n",
              "    box-shadow: 0 1px 2px rgba(60, 64, 67, 0.3), 0 1px 3px 1px rgba(60, 64, 67, 0.15);\n",
              "    fill: var(--button-hover-fill-color);\n",
              "  }\n",
              "\n",
              "  .colab-df-quickchart-complete:disabled,\n",
              "  .colab-df-quickchart-complete:disabled:hover {\n",
              "    background-color: var(--disabled-bg-color);\n",
              "    fill: var(--disabled-fill-color);\n",
              "    box-shadow: none;\n",
              "  }\n",
              "\n",
              "  .colab-df-spinner {\n",
              "    border: 2px solid var(--fill-color);\n",
              "    border-color: transparent;\n",
              "    border-bottom-color: var(--fill-color);\n",
              "    animation:\n",
              "      spin 1s steps(1) infinite;\n",
              "  }\n",
              "\n",
              "  @keyframes spin {\n",
              "    0% {\n",
              "      border-color: transparent;\n",
              "      border-bottom-color: var(--fill-color);\n",
              "      border-left-color: var(--fill-color);\n",
              "    }\n",
              "    20% {\n",
              "      border-color: transparent;\n",
              "      border-left-color: var(--fill-color);\n",
              "      border-top-color: var(--fill-color);\n",
              "    }\n",
              "    30% {\n",
              "      border-color: transparent;\n",
              "      border-left-color: var(--fill-color);\n",
              "      border-top-color: var(--fill-color);\n",
              "      border-right-color: var(--fill-color);\n",
              "    }\n",
              "    40% {\n",
              "      border-color: transparent;\n",
              "      border-right-color: var(--fill-color);\n",
              "      border-top-color: var(--fill-color);\n",
              "    }\n",
              "    60% {\n",
              "      border-color: transparent;\n",
              "      border-right-color: var(--fill-color);\n",
              "    }\n",
              "    80% {\n",
              "      border-color: transparent;\n",
              "      border-right-color: var(--fill-color);\n",
              "      border-bottom-color: var(--fill-color);\n",
              "    }\n",
              "    90% {\n",
              "      border-color: transparent;\n",
              "      border-bottom-color: var(--fill-color);\n",
              "    }\n",
              "  }\n",
              "</style>\n",
              "\n",
              "  <script>\n",
              "    async function quickchart(key) {\n",
              "      const quickchartButtonEl =\n",
              "        document.querySelector('#' + key + ' button');\n",
              "      quickchartButtonEl.disabled = true;  // To prevent multiple clicks.\n",
              "      quickchartButtonEl.classList.add('colab-df-spinner');\n",
              "      try {\n",
              "        const charts = await google.colab.kernel.invokeFunction(\n",
              "            'suggestCharts', [key], {});\n",
              "      } catch (error) {\n",
              "        console.error('Error during call to suggestCharts:', error);\n",
              "      }\n",
              "      quickchartButtonEl.classList.remove('colab-df-spinner');\n",
              "      quickchartButtonEl.classList.add('colab-df-quickchart-complete');\n",
              "    }\n",
              "    (() => {\n",
              "      let quickchartButtonEl =\n",
              "        document.querySelector('#df-c2f925ae-e9ef-4e5b-98a7-ab7ac2197806 button');\n",
              "      quickchartButtonEl.style.display =\n",
              "        google.colab.kernel.accessAllowed ? 'block' : 'none';\n",
              "    })();\n",
              "  </script>\n",
              "</div>\n",
              "    </div>\n",
              "  </div>\n"
            ],
            "application/vnd.google.colaboratory.intrinsic+json": {
              "type": "dataframe",
              "variable_name": "data",
              "summary": "{\n  \"name\": \"data\",\n  \"rows\": 300,\n  \"fields\": [\n    {\n      \"column\": \"data\",\n      \"properties\": {\n        \"dtype\": \"number\",\n        \"std\": 1.7407376160097798,\n        \"min\": -3.0,\n        \"max\": 3.0,\n        \"num_unique_values\": 300,\n        \"samples\": [\n          1.0735785953177261,\n          2.3377926421404682,\n          0.05016722408026775\n        ],\n        \"semantic_type\": \"\",\n        \"description\": \"\"\n      }\n    },\n    {\n      \"column\": \"linear\",\n      \"properties\": {\n        \"dtype\": \"number\",\n        \"std\": 1.7407376160097798,\n        \"min\": -3.0,\n        \"max\": 3.0,\n        \"num_unique_values\": 300,\n        \"samples\": [\n          1.0735785953177261,\n          2.3377926421404682,\n          0.05016722408026775\n        ],\n        \"semantic_type\": \"\",\n        \"description\": \"\"\n      }\n    }\n  ]\n}"
            }
          },
          "metadata": {},
          "execution_count": 7
        }
      ]
    },
    {
      "cell_type": "code",
      "source": [
        "px.line(data, x='data', y='linear', range_y = [-3,3])"
      ],
      "metadata": {
        "colab": {
          "base_uri": "https://localhost:8080/",
          "height": 542
        },
        "id": "lf-ZRAIBlOIh",
        "outputId": "4ce3bff8-6ddd-406c-a65f-345c1543fc5f"
      },
      "execution_count": 9,
      "outputs": [
        {
          "output_type": "display_data",
          "data": {
            "text/html": [
              "<html>\n",
              "<head><meta charset=\"utf-8\" /></head>\n",
              "<body>\n",
              "    <div>            <script src=\"https://cdnjs.cloudflare.com/ajax/libs/mathjax/2.7.5/MathJax.js?config=TeX-AMS-MML_SVG\"></script><script type=\"text/javascript\">if (window.MathJax && window.MathJax.Hub && window.MathJax.Hub.Config) {window.MathJax.Hub.Config({SVG: {font: \"STIX-Web\"}});}</script>                <script type=\"text/javascript\">window.PlotlyConfig = {MathJaxConfig: 'local'};</script>\n",
              "        <script charset=\"utf-8\" src=\"https://cdn.plot.ly/plotly-2.24.1.min.js\"></script>                <div id=\"91e0f837-dc53-469e-9393-415afb00aa35\" class=\"plotly-graph-div\" style=\"height:525px; width:100%;\"></div>            <script type=\"text/javascript\">                                    window.PLOTLYENV=window.PLOTLYENV || {};                                    if (document.getElementById(\"91e0f837-dc53-469e-9393-415afb00aa35\")) {                    Plotly.newPlot(                        \"91e0f837-dc53-469e-9393-415afb00aa35\",                        [{\"hovertemplate\":\"data=%{x}\\u003cbr\\u003elinear=%{y}\\u003cextra\\u003e\\u003c\\u002fextra\\u003e\",\"legendgroup\":\"\",\"line\":{\"color\":\"#636efa\",\"dash\":\"solid\"},\"marker\":{\"symbol\":\"circle\"},\"mode\":\"lines\",\"name\":\"\",\"orientation\":\"v\",\"showlegend\":false,\"x\":[-3.0,-2.979933110367893,-2.959866220735786,-2.939799331103679,-2.919732441471572,-2.899665551839465,-2.879598662207358,-2.859531772575251,-2.839464882943144,-2.819397993311037,-2.79933110367893,-2.779264214046823,-2.759197324414716,-2.739130434782609,-2.719063545150502,-2.6989966555183944,-2.678929765886288,-2.6588628762541804,-2.638795986622074,-2.6187290969899664,-2.5986622073578594,-2.5785953177257523,-2.5585284280936453,-2.5384615384615383,-2.5183946488294313,-2.4983277591973243,-2.4782608695652173,-2.4581939799331103,-2.4381270903010033,-2.4180602006688963,-2.3979933110367893,-2.3779264214046822,-2.3578595317725752,-2.3377926421404682,-2.317725752508361,-2.297658862876254,-2.277591973244147,-2.25752508361204,-2.237458193979933,-2.217391304347826,-2.197324414715719,-2.177257525083612,-2.157190635451505,-2.137123745819398,-2.1170568561872907,-2.096989966555184,-2.0769230769230766,-2.05685618729097,-2.0367892976588626,-2.016722408026756,-1.9966555183946488,-1.9765886287625418,-1.9565217391304348,-1.9364548494983278,-1.9163879598662208,-1.8963210702341138,-1.8762541806020065,-1.8561872909698995,-1.8361204013377925,-1.8160535117056855,-1.7959866220735785,-1.7759197324414715,-1.7558528428093645,-1.7357859531772575,-1.7157190635451505,-1.6956521739130435,-1.6755852842809364,-1.6555183946488294,-1.6354515050167224,-1.6153846153846154,-1.5953177257525084,-1.5752508361204014,-1.5551839464882944,-1.5351170568561872,-1.5150501672240801,-1.4949832775919731,-1.4749163879598661,-1.4548494983277591,-1.434782608695652,-1.414715719063545,-1.394648829431438,-1.374581939799331,-1.354515050167224,-1.334448160535117,-1.31438127090301,-1.294314381270903,-1.274247491638796,-1.254180602006689,-1.2341137123745818,-1.2140468227424748,-1.1939799331103678,-1.1739130434782608,-1.1538461538461537,-1.1337792642140467,-1.1137123745819397,-1.0936454849498327,-1.0735785953177257,-1.0535117056856187,-1.0334448160535117,-1.0133779264214047,-0.9933110367892977,-0.9732441471571907,-0.9531772575250836,-0.9331103678929766,-0.9130434782608696,-0.8929765886287626,-0.8729096989966556,-0.8528428093645486,-0.8327759197324416,-0.8127090301003346,-0.7926421404682276,-0.7725752508361206,-0.7525083612040131,-0.7324414715719061,-0.7123745819397991,-0.6923076923076921,-0.6722408026755851,-0.652173913043478,-0.632107023411371,-0.612040133779264,-0.591973244147157,-0.57190635451505,-0.551839464882943,-0.531772575250836,-0.511705685618729,-0.49163879598662197,-0.47157190635451496,-0.45150501672240795,-0.43143812709030094,-0.41137123745819393,-0.3913043478260869,-0.3712374581939799,-0.3511705685618729,-0.3311036789297659,-0.3110367892976589,-0.29096989966555187,-0.27090301003344486,-0.25083612040133785,-0.23076923076923084,-0.21070234113712383,-0.19063545150501682,-0.1705685618729098,-0.1505016722408028,-0.1304347826086958,-0.11036789297658878,-0.09030100334448132,-0.07023411371237431,-0.0501672240802673,-0.030100334448160293,-0.010033444816053283,0.010033444816053727,0.030100334448160737,0.05016722408026775,0.07023411371237476,0.09030100334448177,0.11036789297658878,0.1304347826086958,0.1505016722408028,0.1705685618729098,0.19063545150501682,0.21070234113712383,0.23076923076923084,0.25083612040133785,0.27090301003344486,0.29096989966555187,0.3110367892976589,0.3311036789297659,0.3511705685618729,0.3712374581939799,0.3913043478260869,0.41137123745819393,0.43143812709030094,0.45150501672240795,0.47157190635451496,0.49163879598662197,0.511705685618729,0.5317725752508364,0.5518394648829434,0.5719063545150505,0.5919732441471575,0.6120401337792645,0.6321070234113715,0.6521739130434785,0.6722408026755855,0.6923076923076925,0.7123745819397995,0.7324414715719065,0.7525083612040135,0.7725752508361206,0.7926421404682276,0.8127090301003346,0.8327759197324416,0.8528428093645486,0.8729096989966556,0.8929765886287626,0.9130434782608696,0.9331103678929766,0.9531772575250836,0.9732441471571907,0.9933110367892977,1.0133779264214047,1.0334448160535121,1.0535117056856187,1.0735785953177261,1.0936454849498327,1.1137123745819402,1.1337792642140467,1.1538461538461542,1.1739130434782608,1.1939799331103682,1.2140468227424748,1.2341137123745822,1.2541806020066888,1.2742474916387962,1.2943143812709028,1.3143812709030103,1.3344481605351168,1.3545150501672243,1.3745819397993309,1.3946488294314383,1.4147157190635449,1.4347826086956523,1.454849498327759,1.4749163879598663,1.4949832775919738,1.5150501672240804,1.5351170568561878,1.5551839464882944,1.5752508361204018,1.5953177257525084,1.6153846153846159,1.6354515050167224,1.6555183946488299,1.6755852842809364,1.695652173913044,1.7157190635451505,1.735785953177258,1.7558528428093645,1.775919732441472,1.7959866220735785,1.816053511705686,1.8361204013377925,1.8561872909699,1.8762541806020065,1.896321070234114,1.9163879598662206,1.936454849498328,1.9565217391304346,1.976588628762542,1.9966555183946486,2.016722408026756,2.0367892976588626,2.05685618729097,2.0769230769230766,2.096989966555184,2.1170568561872907,2.137123745819398,2.1571906354515056,2.177257525083612,2.1973244147157196,2.217391304347826,2.2374581939799336,2.25752508361204,2.2775919732441476,2.297658862876254,2.3177257525083617,2.3377926421404682,2.3578595317725757,2.3779264214046822,2.3979933110367897,2.4180602006688963,2.4381270903010037,2.4581939799331103,2.4782608695652177,2.4983277591973243,2.5183946488294318,2.5384615384615383,2.558528428093646,2.5785953177257523,2.59866220735786,2.6187290969899664,2.638795986622074,2.6588628762541804,2.678929765886288,2.6989966555183944,2.719063545150502,2.7391304347826084,2.759197324414716,2.7792642140468224,2.79933110367893,2.8193979933110374,2.839464882943144,2.8595317725752514,2.879598662207358,2.8996655518394654,2.919732441471572,2.9397993311036794,2.959866220735786,2.9799331103678934,3.0],\"xaxis\":\"x\",\"y\":[-3.0,-2.979933110367893,-2.959866220735786,-2.939799331103679,-2.919732441471572,-2.899665551839465,-2.879598662207358,-2.859531772575251,-2.839464882943144,-2.819397993311037,-2.79933110367893,-2.779264214046823,-2.759197324414716,-2.739130434782609,-2.719063545150502,-2.6989966555183944,-2.678929765886288,-2.6588628762541804,-2.638795986622074,-2.6187290969899664,-2.5986622073578594,-2.5785953177257523,-2.5585284280936453,-2.5384615384615383,-2.5183946488294313,-2.4983277591973243,-2.4782608695652173,-2.4581939799331103,-2.4381270903010033,-2.4180602006688963,-2.3979933110367893,-2.3779264214046822,-2.3578595317725752,-2.3377926421404682,-2.317725752508361,-2.297658862876254,-2.277591973244147,-2.25752508361204,-2.237458193979933,-2.217391304347826,-2.197324414715719,-2.177257525083612,-2.157190635451505,-2.137123745819398,-2.1170568561872907,-2.096989966555184,-2.0769230769230766,-2.05685618729097,-2.0367892976588626,-2.016722408026756,-1.9966555183946488,-1.9765886287625418,-1.9565217391304348,-1.9364548494983278,-1.9163879598662208,-1.8963210702341138,-1.8762541806020065,-1.8561872909698995,-1.8361204013377925,-1.8160535117056855,-1.7959866220735785,-1.7759197324414715,-1.7558528428093645,-1.7357859531772575,-1.7157190635451505,-1.6956521739130435,-1.6755852842809364,-1.6555183946488294,-1.6354515050167224,-1.6153846153846154,-1.5953177257525084,-1.5752508361204014,-1.5551839464882944,-1.5351170568561872,-1.5150501672240801,-1.4949832775919731,-1.4749163879598661,-1.4548494983277591,-1.434782608695652,-1.414715719063545,-1.394648829431438,-1.374581939799331,-1.354515050167224,-1.334448160535117,-1.31438127090301,-1.294314381270903,-1.274247491638796,-1.254180602006689,-1.2341137123745818,-1.2140468227424748,-1.1939799331103678,-1.1739130434782608,-1.1538461538461537,-1.1337792642140467,-1.1137123745819397,-1.0936454849498327,-1.0735785953177257,-1.0535117056856187,-1.0334448160535117,-1.0133779264214047,-0.9933110367892977,-0.9732441471571907,-0.9531772575250836,-0.9331103678929766,-0.9130434782608696,-0.8929765886287626,-0.8729096989966556,-0.8528428093645486,-0.8327759197324416,-0.8127090301003346,-0.7926421404682276,-0.7725752508361206,-0.7525083612040131,-0.7324414715719061,-0.7123745819397991,-0.6923076923076921,-0.6722408026755851,-0.652173913043478,-0.632107023411371,-0.612040133779264,-0.591973244147157,-0.57190635451505,-0.551839464882943,-0.531772575250836,-0.511705685618729,-0.49163879598662197,-0.47157190635451496,-0.45150501672240795,-0.43143812709030094,-0.41137123745819393,-0.3913043478260869,-0.3712374581939799,-0.3511705685618729,-0.3311036789297659,-0.3110367892976589,-0.29096989966555187,-0.27090301003344486,-0.25083612040133785,-0.23076923076923084,-0.21070234113712383,-0.19063545150501682,-0.1705685618729098,-0.1505016722408028,-0.1304347826086958,-0.11036789297658878,-0.09030100334448132,-0.07023411371237431,-0.0501672240802673,-0.030100334448160293,-0.010033444816053283,0.010033444816053727,0.030100334448160737,0.05016722408026775,0.07023411371237476,0.09030100334448177,0.11036789297658878,0.1304347826086958,0.1505016722408028,0.1705685618729098,0.19063545150501682,0.21070234113712383,0.23076923076923084,0.25083612040133785,0.27090301003344486,0.29096989966555187,0.3110367892976589,0.3311036789297659,0.3511705685618729,0.3712374581939799,0.3913043478260869,0.41137123745819393,0.43143812709030094,0.45150501672240795,0.47157190635451496,0.49163879598662197,0.511705685618729,0.5317725752508364,0.5518394648829434,0.5719063545150505,0.5919732441471575,0.6120401337792645,0.6321070234113715,0.6521739130434785,0.6722408026755855,0.6923076923076925,0.7123745819397995,0.7324414715719065,0.7525083612040135,0.7725752508361206,0.7926421404682276,0.8127090301003346,0.8327759197324416,0.8528428093645486,0.8729096989966556,0.8929765886287626,0.9130434782608696,0.9331103678929766,0.9531772575250836,0.9732441471571907,0.9933110367892977,1.0133779264214047,1.0334448160535121,1.0535117056856187,1.0735785953177261,1.0936454849498327,1.1137123745819402,1.1337792642140467,1.1538461538461542,1.1739130434782608,1.1939799331103682,1.2140468227424748,1.2341137123745822,1.2541806020066888,1.2742474916387962,1.2943143812709028,1.3143812709030103,1.3344481605351168,1.3545150501672243,1.3745819397993309,1.3946488294314383,1.4147157190635449,1.4347826086956523,1.454849498327759,1.4749163879598663,1.4949832775919738,1.5150501672240804,1.5351170568561878,1.5551839464882944,1.5752508361204018,1.5953177257525084,1.6153846153846159,1.6354515050167224,1.6555183946488299,1.6755852842809364,1.695652173913044,1.7157190635451505,1.735785953177258,1.7558528428093645,1.775919732441472,1.7959866220735785,1.816053511705686,1.8361204013377925,1.8561872909699,1.8762541806020065,1.896321070234114,1.9163879598662206,1.936454849498328,1.9565217391304346,1.976588628762542,1.9966555183946486,2.016722408026756,2.0367892976588626,2.05685618729097,2.0769230769230766,2.096989966555184,2.1170568561872907,2.137123745819398,2.1571906354515056,2.177257525083612,2.1973244147157196,2.217391304347826,2.2374581939799336,2.25752508361204,2.2775919732441476,2.297658862876254,2.3177257525083617,2.3377926421404682,2.3578595317725757,2.3779264214046822,2.3979933110367897,2.4180602006688963,2.4381270903010037,2.4581939799331103,2.4782608695652177,2.4983277591973243,2.5183946488294318,2.5384615384615383,2.558528428093646,2.5785953177257523,2.59866220735786,2.6187290969899664,2.638795986622074,2.6588628762541804,2.678929765886288,2.6989966555183944,2.719063545150502,2.7391304347826084,2.759197324414716,2.7792642140468224,2.79933110367893,2.8193979933110374,2.839464882943144,2.8595317725752514,2.879598662207358,2.8996655518394654,2.919732441471572,2.9397993311036794,2.959866220735786,2.9799331103678934,3.0],\"yaxis\":\"y\",\"type\":\"scatter\"}],                        {\"template\":{\"data\":{\"histogram2dcontour\":[{\"type\":\"histogram2dcontour\",\"colorbar\":{\"outlinewidth\":0,\"ticks\":\"\"},\"colorscale\":[[0.0,\"#0d0887\"],[0.1111111111111111,\"#46039f\"],[0.2222222222222222,\"#7201a8\"],[0.3333333333333333,\"#9c179e\"],[0.4444444444444444,\"#bd3786\"],[0.5555555555555556,\"#d8576b\"],[0.6666666666666666,\"#ed7953\"],[0.7777777777777778,\"#fb9f3a\"],[0.8888888888888888,\"#fdca26\"],[1.0,\"#f0f921\"]]}],\"choropleth\":[{\"type\":\"choropleth\",\"colorbar\":{\"outlinewidth\":0,\"ticks\":\"\"}}],\"histogram2d\":[{\"type\":\"histogram2d\",\"colorbar\":{\"outlinewidth\":0,\"ticks\":\"\"},\"colorscale\":[[0.0,\"#0d0887\"],[0.1111111111111111,\"#46039f\"],[0.2222222222222222,\"#7201a8\"],[0.3333333333333333,\"#9c179e\"],[0.4444444444444444,\"#bd3786\"],[0.5555555555555556,\"#d8576b\"],[0.6666666666666666,\"#ed7953\"],[0.7777777777777778,\"#fb9f3a\"],[0.8888888888888888,\"#fdca26\"],[1.0,\"#f0f921\"]]}],\"heatmap\":[{\"type\":\"heatmap\",\"colorbar\":{\"outlinewidth\":0,\"ticks\":\"\"},\"colorscale\":[[0.0,\"#0d0887\"],[0.1111111111111111,\"#46039f\"],[0.2222222222222222,\"#7201a8\"],[0.3333333333333333,\"#9c179e\"],[0.4444444444444444,\"#bd3786\"],[0.5555555555555556,\"#d8576b\"],[0.6666666666666666,\"#ed7953\"],[0.7777777777777778,\"#fb9f3a\"],[0.8888888888888888,\"#fdca26\"],[1.0,\"#f0f921\"]]}],\"heatmapgl\":[{\"type\":\"heatmapgl\",\"colorbar\":{\"outlinewidth\":0,\"ticks\":\"\"},\"colorscale\":[[0.0,\"#0d0887\"],[0.1111111111111111,\"#46039f\"],[0.2222222222222222,\"#7201a8\"],[0.3333333333333333,\"#9c179e\"],[0.4444444444444444,\"#bd3786\"],[0.5555555555555556,\"#d8576b\"],[0.6666666666666666,\"#ed7953\"],[0.7777777777777778,\"#fb9f3a\"],[0.8888888888888888,\"#fdca26\"],[1.0,\"#f0f921\"]]}],\"contourcarpet\":[{\"type\":\"contourcarpet\",\"colorbar\":{\"outlinewidth\":0,\"ticks\":\"\"}}],\"contour\":[{\"type\":\"contour\",\"colorbar\":{\"outlinewidth\":0,\"ticks\":\"\"},\"colorscale\":[[0.0,\"#0d0887\"],[0.1111111111111111,\"#46039f\"],[0.2222222222222222,\"#7201a8\"],[0.3333333333333333,\"#9c179e\"],[0.4444444444444444,\"#bd3786\"],[0.5555555555555556,\"#d8576b\"],[0.6666666666666666,\"#ed7953\"],[0.7777777777777778,\"#fb9f3a\"],[0.8888888888888888,\"#fdca26\"],[1.0,\"#f0f921\"]]}],\"surface\":[{\"type\":\"surface\",\"colorbar\":{\"outlinewidth\":0,\"ticks\":\"\"},\"colorscale\":[[0.0,\"#0d0887\"],[0.1111111111111111,\"#46039f\"],[0.2222222222222222,\"#7201a8\"],[0.3333333333333333,\"#9c179e\"],[0.4444444444444444,\"#bd3786\"],[0.5555555555555556,\"#d8576b\"],[0.6666666666666666,\"#ed7953\"],[0.7777777777777778,\"#fb9f3a\"],[0.8888888888888888,\"#fdca26\"],[1.0,\"#f0f921\"]]}],\"mesh3d\":[{\"type\":\"mesh3d\",\"colorbar\":{\"outlinewidth\":0,\"ticks\":\"\"}}],\"scatter\":[{\"fillpattern\":{\"fillmode\":\"overlay\",\"size\":10,\"solidity\":0.2},\"type\":\"scatter\"}],\"parcoords\":[{\"type\":\"parcoords\",\"line\":{\"colorbar\":{\"outlinewidth\":0,\"ticks\":\"\"}}}],\"scatterpolargl\":[{\"type\":\"scatterpolargl\",\"marker\":{\"colorbar\":{\"outlinewidth\":0,\"ticks\":\"\"}}}],\"bar\":[{\"error_x\":{\"color\":\"#2a3f5f\"},\"error_y\":{\"color\":\"#2a3f5f\"},\"marker\":{\"line\":{\"color\":\"#E5ECF6\",\"width\":0.5},\"pattern\":{\"fillmode\":\"overlay\",\"size\":10,\"solidity\":0.2}},\"type\":\"bar\"}],\"scattergeo\":[{\"type\":\"scattergeo\",\"marker\":{\"colorbar\":{\"outlinewidth\":0,\"ticks\":\"\"}}}],\"scatterpolar\":[{\"type\":\"scatterpolar\",\"marker\":{\"colorbar\":{\"outlinewidth\":0,\"ticks\":\"\"}}}],\"histogram\":[{\"marker\":{\"pattern\":{\"fillmode\":\"overlay\",\"size\":10,\"solidity\":0.2}},\"type\":\"histogram\"}],\"scattergl\":[{\"type\":\"scattergl\",\"marker\":{\"colorbar\":{\"outlinewidth\":0,\"ticks\":\"\"}}}],\"scatter3d\":[{\"type\":\"scatter3d\",\"line\":{\"colorbar\":{\"outlinewidth\":0,\"ticks\":\"\"}},\"marker\":{\"colorbar\":{\"outlinewidth\":0,\"ticks\":\"\"}}}],\"scattermapbox\":[{\"type\":\"scattermapbox\",\"marker\":{\"colorbar\":{\"outlinewidth\":0,\"ticks\":\"\"}}}],\"scatterternary\":[{\"type\":\"scatterternary\",\"marker\":{\"colorbar\":{\"outlinewidth\":0,\"ticks\":\"\"}}}],\"scattercarpet\":[{\"type\":\"scattercarpet\",\"marker\":{\"colorbar\":{\"outlinewidth\":0,\"ticks\":\"\"}}}],\"carpet\":[{\"aaxis\":{\"endlinecolor\":\"#2a3f5f\",\"gridcolor\":\"white\",\"linecolor\":\"white\",\"minorgridcolor\":\"white\",\"startlinecolor\":\"#2a3f5f\"},\"baxis\":{\"endlinecolor\":\"#2a3f5f\",\"gridcolor\":\"white\",\"linecolor\":\"white\",\"minorgridcolor\":\"white\",\"startlinecolor\":\"#2a3f5f\"},\"type\":\"carpet\"}],\"table\":[{\"cells\":{\"fill\":{\"color\":\"#EBF0F8\"},\"line\":{\"color\":\"white\"}},\"header\":{\"fill\":{\"color\":\"#C8D4E3\"},\"line\":{\"color\":\"white\"}},\"type\":\"table\"}],\"barpolar\":[{\"marker\":{\"line\":{\"color\":\"#E5ECF6\",\"width\":0.5},\"pattern\":{\"fillmode\":\"overlay\",\"size\":10,\"solidity\":0.2}},\"type\":\"barpolar\"}],\"pie\":[{\"automargin\":true,\"type\":\"pie\"}]},\"layout\":{\"autotypenumbers\":\"strict\",\"colorway\":[\"#636efa\",\"#EF553B\",\"#00cc96\",\"#ab63fa\",\"#FFA15A\",\"#19d3f3\",\"#FF6692\",\"#B6E880\",\"#FF97FF\",\"#FECB52\"],\"font\":{\"color\":\"#2a3f5f\"},\"hovermode\":\"closest\",\"hoverlabel\":{\"align\":\"left\"},\"paper_bgcolor\":\"white\",\"plot_bgcolor\":\"#E5ECF6\",\"polar\":{\"bgcolor\":\"#E5ECF6\",\"angularaxis\":{\"gridcolor\":\"white\",\"linecolor\":\"white\",\"ticks\":\"\"},\"radialaxis\":{\"gridcolor\":\"white\",\"linecolor\":\"white\",\"ticks\":\"\"}},\"ternary\":{\"bgcolor\":\"#E5ECF6\",\"aaxis\":{\"gridcolor\":\"white\",\"linecolor\":\"white\",\"ticks\":\"\"},\"baxis\":{\"gridcolor\":\"white\",\"linecolor\":\"white\",\"ticks\":\"\"},\"caxis\":{\"gridcolor\":\"white\",\"linecolor\":\"white\",\"ticks\":\"\"}},\"coloraxis\":{\"colorbar\":{\"outlinewidth\":0,\"ticks\":\"\"}},\"colorscale\":{\"sequential\":[[0.0,\"#0d0887\"],[0.1111111111111111,\"#46039f\"],[0.2222222222222222,\"#7201a8\"],[0.3333333333333333,\"#9c179e\"],[0.4444444444444444,\"#bd3786\"],[0.5555555555555556,\"#d8576b\"],[0.6666666666666666,\"#ed7953\"],[0.7777777777777778,\"#fb9f3a\"],[0.8888888888888888,\"#fdca26\"],[1.0,\"#f0f921\"]],\"sequentialminus\":[[0.0,\"#0d0887\"],[0.1111111111111111,\"#46039f\"],[0.2222222222222222,\"#7201a8\"],[0.3333333333333333,\"#9c179e\"],[0.4444444444444444,\"#bd3786\"],[0.5555555555555556,\"#d8576b\"],[0.6666666666666666,\"#ed7953\"],[0.7777777777777778,\"#fb9f3a\"],[0.8888888888888888,\"#fdca26\"],[1.0,\"#f0f921\"]],\"diverging\":[[0,\"#8e0152\"],[0.1,\"#c51b7d\"],[0.2,\"#de77ae\"],[0.3,\"#f1b6da\"],[0.4,\"#fde0ef\"],[0.5,\"#f7f7f7\"],[0.6,\"#e6f5d0\"],[0.7,\"#b8e186\"],[0.8,\"#7fbc41\"],[0.9,\"#4d9221\"],[1,\"#276419\"]]},\"xaxis\":{\"gridcolor\":\"white\",\"linecolor\":\"white\",\"ticks\":\"\",\"title\":{\"standoff\":15},\"zerolinecolor\":\"white\",\"automargin\":true,\"zerolinewidth\":2},\"yaxis\":{\"gridcolor\":\"white\",\"linecolor\":\"white\",\"ticks\":\"\",\"title\":{\"standoff\":15},\"zerolinecolor\":\"white\",\"automargin\":true,\"zerolinewidth\":2},\"scene\":{\"xaxis\":{\"backgroundcolor\":\"#E5ECF6\",\"gridcolor\":\"white\",\"linecolor\":\"white\",\"showbackground\":true,\"ticks\":\"\",\"zerolinecolor\":\"white\",\"gridwidth\":2},\"yaxis\":{\"backgroundcolor\":\"#E5ECF6\",\"gridcolor\":\"white\",\"linecolor\":\"white\",\"showbackground\":true,\"ticks\":\"\",\"zerolinecolor\":\"white\",\"gridwidth\":2},\"zaxis\":{\"backgroundcolor\":\"#E5ECF6\",\"gridcolor\":\"white\",\"linecolor\":\"white\",\"showbackground\":true,\"ticks\":\"\",\"zerolinecolor\":\"white\",\"gridwidth\":2}},\"shapedefaults\":{\"line\":{\"color\":\"#2a3f5f\"}},\"annotationdefaults\":{\"arrowcolor\":\"#2a3f5f\",\"arrowhead\":0,\"arrowwidth\":1},\"geo\":{\"bgcolor\":\"white\",\"landcolor\":\"#E5ECF6\",\"subunitcolor\":\"white\",\"showland\":true,\"showlakes\":true,\"lakecolor\":\"white\"},\"title\":{\"x\":0.05},\"mapbox\":{\"style\":\"light\"}}},\"xaxis\":{\"anchor\":\"y\",\"domain\":[0.0,1.0],\"title\":{\"text\":\"data\"}},\"yaxis\":{\"anchor\":\"x\",\"domain\":[0.0,1.0],\"title\":{\"text\":\"linear\"},\"range\":[-3,3]},\"legend\":{\"tracegroupgap\":0},\"margin\":{\"t\":60}},                        {\"responsive\": true}                    ).then(function(){\n",
              "                            \n",
              "var gd = document.getElementById('91e0f837-dc53-469e-9393-415afb00aa35');\n",
              "var x = new MutationObserver(function (mutations, observer) {{\n",
              "        var display = window.getComputedStyle(gd).display;\n",
              "        if (!display || display === 'none') {{\n",
              "            console.log([gd, 'removed!']);\n",
              "            Plotly.purge(gd);\n",
              "            observer.disconnect();\n",
              "        }}\n",
              "}});\n",
              "\n",
              "// Listen for the removal of the full notebook cells\n",
              "var notebookContainer = gd.closest('#notebook-container');\n",
              "if (notebookContainer) {{\n",
              "    x.observe(notebookContainer, {childList: true});\n",
              "}}\n",
              "\n",
              "// Listen for the clearing of the current output cell\n",
              "var outputEl = gd.closest('.output');\n",
              "if (outputEl) {{\n",
              "    x.observe(outputEl, {childList: true});\n",
              "}}\n",
              "\n",
              "                        })                };                            </script>        </div>\n",
              "</body>\n",
              "</html>"
            ]
          },
          "metadata": {}
        }
      ]
    },
    {
      "cell_type": "code",
      "source": [
        "model = Sequential()\n",
        "model.add(Dense(units = 8, activation = 'relu', input_shape=(10,1)))\n",
        "model.add(Dense(units = 1, activation = 'sigmoid'))\n",
        "model.summary()"
      ],
      "metadata": {
        "colab": {
          "base_uri": "https://localhost:8080/"
        },
        "id": "yfM5e313lZ4H",
        "outputId": "bdad8ac5-779c-4d97-e582-d652c2327390"
      },
      "execution_count": 10,
      "outputs": [
        {
          "output_type": "stream",
          "name": "stdout",
          "text": [
            "Model: \"sequential_1\"\n",
            "_________________________________________________________________\n",
            " Layer (type)                Output Shape              Param #   \n",
            "=================================================================\n",
            " dense_2 (Dense)             (None, 10, 8)             16        \n",
            "                                                                 \n",
            " dense_3 (Dense)             (None, 10, 1)             9         \n",
            "                                                                 \n",
            "=================================================================\n",
            "Total params: 25 (100.00 Byte)\n",
            "Trainable params: 25 (100.00 Byte)\n",
            "Non-trainable params: 0 (0.00 Byte)\n",
            "_________________________________________________________________\n"
          ]
        }
      ]
    },
    {
      "cell_type": "code",
      "source": [
        "# Przed kompilacja modelu nalezy dodac rodzaj optymalizatora, funkcje straty oraz metryki do obserwacji podczas treningu\n",
        "# Klasyfikacja binarna - przewidywanie 1 z 2 klas: np splata lub brak splaty kredyty\n",
        "model.compile(optimizer = 'rmsprop',\n",
        "              loss='binary_crossentropy',\n",
        "              metrics=['accuracy'])\n",
        "\n",
        "# Klasyfikacja wieloklasowa: np rozpoznanie cyfr\n",
        "model.compile(optimizer = 'rmsprop',\n",
        "              loss='categorical_crossentropy',\n",
        "              metrics=['accuracy'])\n",
        "# regresja\n",
        "model.compile(optimizer = 'rmsprop',\n",
        "              loss='mse')"
      ],
      "metadata": {
        "id": "hQSXeWipmRsu"
      },
      "execution_count": 11,
      "outputs": []
    },
    {
      "cell_type": "code",
      "source": [
        "# Trenowanie modelu. Podajemy tutaj do trenowania tablice numpy\n",
        "# Epochs: ile razy ma przejsc dana przez siec, batch size: rozmiar wsadu, validation split: podzial danych treningowych i walidacyjnych\n",
        "# Klasyfikacja binarna, wygenerowanie danych\n",
        "data = np.random.randn(10000, 150)\n",
        "labels = np.random.randint(2, size = (10000, 1))\n",
        "print(data.shape)\n",
        "print(labels.shape)"
      ],
      "metadata": {
        "colab": {
          "base_uri": "https://localhost:8080/"
        },
        "id": "BSOOUUsSnKzX",
        "outputId": "9e34aa0c-102d-4d19-ff4f-ca0e218f43c0"
      },
      "execution_count": 13,
      "outputs": [
        {
          "output_type": "stream",
          "name": "stdout",
          "text": [
            "(10000, 150)\n",
            "(10000, 1)\n"
          ]
        }
      ]
    },
    {
      "cell_type": "code",
      "source": [
        "# Tworzenie modelu klasyfikacji binarnej\n",
        "model = Sequential()\n",
        "model.add(Dense(units=32, activation = 'relu', input_shape = (150,)))\n",
        "model.add(Dense(1, activation='sigmoid'))\n",
        "model.compile(optimizer = 'rmsprop',\n",
        "              loss='binary_crossentropy',\n",
        "              metrics=['accuracy'])\n",
        "model.fit(data, labels, epochs = 20)"
      ],
      "metadata": {
        "colab": {
          "base_uri": "https://localhost:8080/"
        },
        "id": "8VSpaioXoepW",
        "outputId": "625ebf06-9d70-47d4-cd4f-ab9d6f5d06b5"
      },
      "execution_count": 15,
      "outputs": [
        {
          "output_type": "stream",
          "name": "stdout",
          "text": [
            "Epoch 1/20\n",
            "313/313 [==============================] - 1s 2ms/step - loss: 0.7570 - accuracy: 0.4990\n",
            "Epoch 2/20\n",
            "313/313 [==============================] - 1s 2ms/step - loss: 0.6984 - accuracy: 0.5419\n",
            "Epoch 3/20\n",
            "313/313 [==============================] - 1s 2ms/step - loss: 0.6756 - accuracy: 0.5796\n",
            "Epoch 4/20\n",
            "313/313 [==============================] - 1s 2ms/step - loss: 0.6603 - accuracy: 0.6053\n",
            "Epoch 5/20\n",
            "313/313 [==============================] - 1s 2ms/step - loss: 0.6453 - accuracy: 0.6236\n",
            "Epoch 6/20\n",
            "313/313 [==============================] - 1s 2ms/step - loss: 0.6308 - accuracy: 0.6479\n",
            "Epoch 7/20\n",
            "313/313 [==============================] - 1s 2ms/step - loss: 0.6163 - accuracy: 0.6619\n",
            "Epoch 8/20\n",
            "313/313 [==============================] - 1s 2ms/step - loss: 0.6019 - accuracy: 0.6792\n",
            "Epoch 9/20\n",
            "313/313 [==============================] - 1s 2ms/step - loss: 0.5884 - accuracy: 0.6943\n",
            "Epoch 10/20\n",
            "313/313 [==============================] - 1s 3ms/step - loss: 0.5751 - accuracy: 0.7035\n",
            "Epoch 11/20\n",
            "313/313 [==============================] - 1s 3ms/step - loss: 0.5634 - accuracy: 0.7150\n",
            "Epoch 12/20\n",
            "313/313 [==============================] - 1s 2ms/step - loss: 0.5513 - accuracy: 0.7211\n",
            "Epoch 13/20\n",
            "313/313 [==============================] - 1s 2ms/step - loss: 0.5402 - accuracy: 0.7329\n",
            "Epoch 14/20\n",
            "313/313 [==============================] - 1s 2ms/step - loss: 0.5304 - accuracy: 0.7406\n",
            "Epoch 15/20\n",
            "313/313 [==============================] - 1s 2ms/step - loss: 0.5200 - accuracy: 0.7475\n",
            "Epoch 16/20\n",
            "313/313 [==============================] - 1s 2ms/step - loss: 0.5103 - accuracy: 0.7491\n",
            "Epoch 17/20\n",
            "313/313 [==============================] - 1s 2ms/step - loss: 0.5024 - accuracy: 0.7581\n",
            "Epoch 18/20\n",
            "313/313 [==============================] - 1s 2ms/step - loss: 0.4935 - accuracy: 0.7602\n",
            "Epoch 19/20\n",
            "313/313 [==============================] - 1s 2ms/step - loss: 0.4854 - accuracy: 0.7700\n",
            "Epoch 20/20\n",
            "313/313 [==============================] - 1s 2ms/step - loss: 0.4781 - accuracy: 0.7735\n"
          ]
        },
        {
          "output_type": "execute_result",
          "data": {
            "text/plain": [
              "<keras.src.callbacks.History at 0x78059439f5e0>"
            ]
          },
          "metadata": {},
          "execution_count": 15
        }
      ]
    },
    {
      "cell_type": "code",
      "source": [
        "# Tworzenie modelu klasyfikacji binarnej, z dodaniem batch size wiekszego przy fit\n",
        "model = Sequential()\n",
        "model.add(Dense(units=32, activation = 'relu', input_shape = (150,)))\n",
        "model.add(Dense(1, activation='sigmoid'))\n",
        "model.compile(optimizer = 'rmsprop',\n",
        "              loss='binary_crossentropy',\n",
        "              metrics=['accuracy'])\n",
        "model.fit(data, labels, epochs = 20, batch_size = 64)"
      ],
      "metadata": {
        "colab": {
          "base_uri": "https://localhost:8080/"
        },
        "id": "6xLu9orQpZ_s",
        "outputId": "b5a476b3-7e29-422a-bdd2-54a39ce6016d"
      },
      "execution_count": 16,
      "outputs": [
        {
          "output_type": "stream",
          "name": "stdout",
          "text": [
            "Epoch 1/20\n",
            "157/157 [==============================] - 1s 2ms/step - loss: 0.7449 - accuracy: 0.5033\n",
            "Epoch 2/20\n",
            "157/157 [==============================] - 0s 2ms/step - loss: 0.6977 - accuracy: 0.5441\n",
            "Epoch 3/20\n",
            "157/157 [==============================] - 0s 2ms/step - loss: 0.6820 - accuracy: 0.5626\n",
            "Epoch 4/20\n",
            "157/157 [==============================] - 0s 2ms/step - loss: 0.6704 - accuracy: 0.5923\n",
            "Epoch 5/20\n",
            "157/157 [==============================] - 0s 2ms/step - loss: 0.6600 - accuracy: 0.6066\n",
            "Epoch 6/20\n",
            "157/157 [==============================] - 0s 2ms/step - loss: 0.6503 - accuracy: 0.6226\n",
            "Epoch 7/20\n",
            "157/157 [==============================] - 0s 2ms/step - loss: 0.6409 - accuracy: 0.6325\n",
            "Epoch 8/20\n",
            "157/157 [==============================] - 0s 2ms/step - loss: 0.6314 - accuracy: 0.6504\n",
            "Epoch 9/20\n",
            "157/157 [==============================] - 0s 2ms/step - loss: 0.6213 - accuracy: 0.6657\n",
            "Epoch 10/20\n",
            "157/157 [==============================] - 0s 2ms/step - loss: 0.6115 - accuracy: 0.6773\n",
            "Epoch 11/20\n",
            "157/157 [==============================] - 0s 2ms/step - loss: 0.6014 - accuracy: 0.6859\n",
            "Epoch 12/20\n",
            "157/157 [==============================] - 0s 2ms/step - loss: 0.5913 - accuracy: 0.7008\n",
            "Epoch 13/20\n",
            "157/157 [==============================] - 0s 2ms/step - loss: 0.5818 - accuracy: 0.7049\n",
            "Epoch 14/20\n",
            "157/157 [==============================] - 0s 2ms/step - loss: 0.5721 - accuracy: 0.7114\n",
            "Epoch 15/20\n",
            "157/157 [==============================] - 0s 3ms/step - loss: 0.5628 - accuracy: 0.7239\n",
            "Epoch 16/20\n",
            "157/157 [==============================] - 0s 3ms/step - loss: 0.5539 - accuracy: 0.7261\n",
            "Epoch 17/20\n",
            "157/157 [==============================] - 0s 3ms/step - loss: 0.5449 - accuracy: 0.7346\n",
            "Epoch 18/20\n",
            "157/157 [==============================] - 0s 3ms/step - loss: 0.5363 - accuracy: 0.7424\n",
            "Epoch 19/20\n",
            "157/157 [==============================] - 1s 3ms/step - loss: 0.5285 - accuracy: 0.7445\n",
            "Epoch 20/20\n",
            "157/157 [==============================] - 0s 3ms/step - loss: 0.5204 - accuracy: 0.7533\n"
          ]
        },
        {
          "output_type": "execute_result",
          "data": {
            "text/plain": [
              "<keras.src.callbacks.History at 0x78059271fb50>"
            ]
          },
          "metadata": {},
          "execution_count": 16
        }
      ]
    },
    {
      "cell_type": "code",
      "source": [
        "# Tworzenie modelu klasyfikacji binarnej, dodanie parametru batch i validation split\n",
        "# Tutaj otrzymujemy rowniez accuracy na zbiorze walidacyjnym\n",
        "model = Sequential()\n",
        "model.add(Dense(units=32, activation = 'relu', input_shape = (150,)))\n",
        "model.add(Dense(1, activation='sigmoid'))\n",
        "model.compile(optimizer = 'rmsprop',\n",
        "              loss='binary_crossentropy',\n",
        "              metrics=['accuracy'])\n",
        "model.fit(data, labels, epochs = 20, batch_size = 64, validation_split = 0.2)"
      ],
      "metadata": {
        "colab": {
          "base_uri": "https://localhost:8080/"
        },
        "id": "n_KVvAbipr8A",
        "outputId": "7130409a-f575-428c-b6e2-f92c0a813211"
      },
      "execution_count": 17,
      "outputs": [
        {
          "output_type": "stream",
          "name": "stdout",
          "text": [
            "Epoch 1/20\n",
            "125/125 [==============================] - 1s 4ms/step - loss: 0.7537 - accuracy: 0.4996 - val_loss: 0.7240 - val_accuracy: 0.4920\n",
            "Epoch 2/20\n",
            "125/125 [==============================] - 0s 2ms/step - loss: 0.7013 - accuracy: 0.5385 - val_loss: 0.7153 - val_accuracy: 0.5055\n",
            "Epoch 3/20\n",
            "125/125 [==============================] - 0s 3ms/step - loss: 0.6831 - accuracy: 0.5686 - val_loss: 0.7137 - val_accuracy: 0.5040\n",
            "Epoch 4/20\n",
            "125/125 [==============================] - 0s 3ms/step - loss: 0.6700 - accuracy: 0.5895 - val_loss: 0.7142 - val_accuracy: 0.5030\n",
            "Epoch 5/20\n",
            "125/125 [==============================] - 0s 2ms/step - loss: 0.6587 - accuracy: 0.6056 - val_loss: 0.7181 - val_accuracy: 0.5020\n",
            "Epoch 6/20\n",
            "125/125 [==============================] - 0s 2ms/step - loss: 0.6481 - accuracy: 0.6233 - val_loss: 0.7189 - val_accuracy: 0.5065\n",
            "Epoch 7/20\n",
            "125/125 [==============================] - 0s 3ms/step - loss: 0.6376 - accuracy: 0.6400 - val_loss: 0.7231 - val_accuracy: 0.5015\n",
            "Epoch 8/20\n",
            "125/125 [==============================] - 0s 3ms/step - loss: 0.6268 - accuracy: 0.6572 - val_loss: 0.7270 - val_accuracy: 0.4990\n",
            "Epoch 9/20\n",
            "125/125 [==============================] - 0s 2ms/step - loss: 0.6159 - accuracy: 0.6706 - val_loss: 0.7304 - val_accuracy: 0.5060\n",
            "Epoch 10/20\n",
            "125/125 [==============================] - 0s 2ms/step - loss: 0.6051 - accuracy: 0.6864 - val_loss: 0.7383 - val_accuracy: 0.5000\n",
            "Epoch 11/20\n",
            "125/125 [==============================] - 0s 3ms/step - loss: 0.5943 - accuracy: 0.6971 - val_loss: 0.7477 - val_accuracy: 0.4935\n",
            "Epoch 12/20\n",
            "125/125 [==============================] - 0s 2ms/step - loss: 0.5837 - accuracy: 0.7026 - val_loss: 0.7527 - val_accuracy: 0.5005\n",
            "Epoch 13/20\n",
            "125/125 [==============================] - 0s 3ms/step - loss: 0.5722 - accuracy: 0.7172 - val_loss: 0.7604 - val_accuracy: 0.4960\n",
            "Epoch 14/20\n",
            "125/125 [==============================] - 0s 2ms/step - loss: 0.5613 - accuracy: 0.7296 - val_loss: 0.7682 - val_accuracy: 0.5005\n",
            "Epoch 15/20\n",
            "125/125 [==============================] - 0s 2ms/step - loss: 0.5514 - accuracy: 0.7344 - val_loss: 0.7784 - val_accuracy: 0.4950\n",
            "Epoch 16/20\n",
            "125/125 [==============================] - 0s 3ms/step - loss: 0.5404 - accuracy: 0.7458 - val_loss: 0.7854 - val_accuracy: 0.4920\n",
            "Epoch 17/20\n",
            "125/125 [==============================] - 1s 4ms/step - loss: 0.5313 - accuracy: 0.7525 - val_loss: 0.7997 - val_accuracy: 0.4920\n",
            "Epoch 18/20\n",
            "125/125 [==============================] - 0s 4ms/step - loss: 0.5216 - accuracy: 0.7563 - val_loss: 0.8116 - val_accuracy: 0.4930\n",
            "Epoch 19/20\n",
            "125/125 [==============================] - 1s 4ms/step - loss: 0.5118 - accuracy: 0.7675 - val_loss: 0.8201 - val_accuracy: 0.4935\n",
            "Epoch 20/20\n",
            "125/125 [==============================] - 1s 5ms/step - loss: 0.5037 - accuracy: 0.7734 - val_loss: 0.8346 - val_accuracy: 0.4955\n"
          ]
        },
        {
          "output_type": "execute_result",
          "data": {
            "text/plain": [
              "<keras.src.callbacks.History at 0x7805927afb50>"
            ]
          },
          "metadata": {},
          "execution_count": 17
        }
      ]
    },
    {
      "cell_type": "code",
      "source": [
        "# Verbose pokazuje obiekt history.\n",
        "model = Sequential()\n",
        "model.add(Dense(units=32, activation = 'relu', input_shape = (150,)))\n",
        "model.add(Dense(1, activation='sigmoid'))\n",
        "model.compile(optimizer = 'rmsprop',\n",
        "              loss='binary_crossentropy',\n",
        "              metrics=['accuracy'])\n",
        "history = model.fit(data, labels, epochs = 20, batch_size = 64, validation_split = 0.2, verbose = 0)"
      ],
      "metadata": {
        "id": "3L6tOU-np8X1"
      },
      "execution_count": 20,
      "outputs": []
    },
    {
      "cell_type": "code",
      "source": [
        "metrics = history.history\n",
        "metrics.keys()"
      ],
      "metadata": {
        "colab": {
          "base_uri": "https://localhost:8080/"
        },
        "id": "4m7TnPZbqPtG",
        "outputId": "cace03e9-3533-4911-8b57-6ce641730b23"
      },
      "execution_count": 21,
      "outputs": [
        {
          "output_type": "execute_result",
          "data": {
            "text/plain": [
              "dict_keys(['loss', 'accuracy', 'val_loss', 'val_accuracy'])"
            ]
          },
          "metadata": {},
          "execution_count": 21
        }
      ]
    },
    {
      "cell_type": "code",
      "source": [
        "model = Sequential()\n",
        "model.add(Dense(units=32, activation = 'relu', input_shape = (150,)))\n",
        "model.add(Dense(1, activation='sigmoid'))\n",
        "model.compile(optimizer = 'rmsprop',\n",
        "              loss='binary_crossentropy',\n",
        "              metrics=['accuracy'])\n",
        "history = model.fit(data, labels, epochs = 20, batch_size = 64, validation_split = 0.2, verbose = 1)"
      ],
      "metadata": {
        "colab": {
          "base_uri": "https://localhost:8080/"
        },
        "id": "dSttK-jDqXHt",
        "outputId": "245a095a-e37f-4081-e9dd-776b1a5e3372"
      },
      "execution_count": 22,
      "outputs": [
        {
          "output_type": "stream",
          "name": "stdout",
          "text": [
            "Epoch 1/20\n",
            "125/125 [==============================] - 2s 9ms/step - loss: 0.7526 - accuracy: 0.4952 - val_loss: 0.7245 - val_accuracy: 0.5130\n",
            "Epoch 2/20\n",
            "125/125 [==============================] - 1s 4ms/step - loss: 0.7015 - accuracy: 0.5364 - val_loss: 0.7142 - val_accuracy: 0.5125\n",
            "Epoch 3/20\n",
            "125/125 [==============================] - 1s 5ms/step - loss: 0.6835 - accuracy: 0.5655 - val_loss: 0.7126 - val_accuracy: 0.5120\n",
            "Epoch 4/20\n",
            "125/125 [==============================] - 0s 4ms/step - loss: 0.6705 - accuracy: 0.5838 - val_loss: 0.7135 - val_accuracy: 0.5070\n",
            "Epoch 5/20\n",
            "125/125 [==============================] - 0s 2ms/step - loss: 0.6606 - accuracy: 0.5996 - val_loss: 0.7148 - val_accuracy: 0.5095\n",
            "Epoch 6/20\n",
            "125/125 [==============================] - 0s 2ms/step - loss: 0.6504 - accuracy: 0.6212 - val_loss: 0.7169 - val_accuracy: 0.5100\n",
            "Epoch 7/20\n",
            "125/125 [==============================] - 0s 3ms/step - loss: 0.6403 - accuracy: 0.6363 - val_loss: 0.7198 - val_accuracy: 0.5050\n",
            "Epoch 8/20\n",
            "125/125 [==============================] - 0s 2ms/step - loss: 0.6293 - accuracy: 0.6518 - val_loss: 0.7241 - val_accuracy: 0.5050\n",
            "Epoch 9/20\n",
            "125/125 [==============================] - 0s 3ms/step - loss: 0.6183 - accuracy: 0.6681 - val_loss: 0.7295 - val_accuracy: 0.5030\n",
            "Epoch 10/20\n",
            "125/125 [==============================] - 0s 3ms/step - loss: 0.6072 - accuracy: 0.6827 - val_loss: 0.7351 - val_accuracy: 0.5035\n",
            "Epoch 11/20\n",
            "125/125 [==============================] - 0s 3ms/step - loss: 0.5962 - accuracy: 0.6908 - val_loss: 0.7400 - val_accuracy: 0.5050\n",
            "Epoch 12/20\n",
            "125/125 [==============================] - 0s 2ms/step - loss: 0.5844 - accuracy: 0.7071 - val_loss: 0.7468 - val_accuracy: 0.4990\n",
            "Epoch 13/20\n",
            "125/125 [==============================] - 0s 3ms/step - loss: 0.5732 - accuracy: 0.7182 - val_loss: 0.7548 - val_accuracy: 0.4970\n",
            "Epoch 14/20\n",
            "125/125 [==============================] - 0s 3ms/step - loss: 0.5620 - accuracy: 0.7270 - val_loss: 0.7624 - val_accuracy: 0.4990\n",
            "Epoch 15/20\n",
            "125/125 [==============================] - 0s 3ms/step - loss: 0.5506 - accuracy: 0.7316 - val_loss: 0.7700 - val_accuracy: 0.4905\n",
            "Epoch 16/20\n",
            "125/125 [==============================] - 0s 3ms/step - loss: 0.5399 - accuracy: 0.7426 - val_loss: 0.7811 - val_accuracy: 0.4980\n",
            "Epoch 17/20\n",
            "125/125 [==============================] - 0s 3ms/step - loss: 0.5299 - accuracy: 0.7479 - val_loss: 0.7910 - val_accuracy: 0.5035\n",
            "Epoch 18/20\n",
            "125/125 [==============================] - 0s 2ms/step - loss: 0.5195 - accuracy: 0.7535 - val_loss: 0.7984 - val_accuracy: 0.4955\n",
            "Epoch 19/20\n",
            "125/125 [==============================] - 0s 3ms/step - loss: 0.5105 - accuracy: 0.7607 - val_loss: 0.8148 - val_accuracy: 0.4955\n",
            "Epoch 20/20\n",
            "125/125 [==============================] - 0s 3ms/step - loss: 0.5012 - accuracy: 0.7675 - val_loss: 0.8222 - val_accuracy: 0.4900\n"
          ]
        }
      ]
    },
    {
      "cell_type": "code",
      "source": [
        "# Tworzenie danych testowych\n",
        "test_data = np.random.randn(5, 150)\n",
        "test_labels = np.random.randint(2, size=(5,1))"
      ],
      "metadata": {
        "id": "NoTisQxfqdxZ"
      },
      "execution_count": 23,
      "outputs": []
    },
    {
      "cell_type": "code",
      "source": [
        "# Predykcja, otrzymujemy prawdopodobienstwo danej klasy\n",
        "model.predict(test_data)"
      ],
      "metadata": {
        "colab": {
          "base_uri": "https://localhost:8080/"
        },
        "id": "dePsinCEqonZ",
        "outputId": "a7d76d7d-f0aa-4013-fd94-73c73a1da62f"
      },
      "execution_count": 24,
      "outputs": [
        {
          "output_type": "stream",
          "name": "stdout",
          "text": [
            "1/1 [==============================] - 0s 85ms/step\n"
          ]
        },
        {
          "output_type": "execute_result",
          "data": {
            "text/plain": [
              "array([[0.7731581 ],\n",
              "       [0.506682  ],\n",
              "       [0.43318275],\n",
              "       [0.39979127],\n",
              "       [0.41263086]], dtype=float32)"
            ]
          },
          "metadata": {},
          "execution_count": 24
        }
      ]
    },
    {
      "cell_type": "code",
      "source": [
        "# Przewidywanie klasy\n",
        "model.predict_classes(test_data)"
      ],
      "metadata": {
        "colab": {
          "base_uri": "https://localhost:8080/",
          "height": 141
        },
        "id": "MAntPTsvqvu7",
        "outputId": "14536d10-1168-4ca8-8b7d-e2cc4029b41a"
      },
      "execution_count": 26,
      "outputs": [
        {
          "output_type": "error",
          "ename": "AttributeError",
          "evalue": "'Sequential' object has no attribute 'predict_classes'",
          "traceback": [
            "\u001b[0;31m---------------------------------------------------------------------------\u001b[0m",
            "\u001b[0;31mAttributeError\u001b[0m                            Traceback (most recent call last)",
            "\u001b[0;32m<ipython-input-26-873120e67cf4>\u001b[0m in \u001b[0;36m<cell line: 1>\u001b[0;34m()\u001b[0m\n\u001b[0;32m----> 1\u001b[0;31m \u001b[0mmodel\u001b[0m\u001b[0;34m.\u001b[0m\u001b[0mpredict_classes\u001b[0m\u001b[0;34m(\u001b[0m\u001b[0mtest_data\u001b[0m\u001b[0;34m)\u001b[0m\u001b[0;34m\u001b[0m\u001b[0;34m\u001b[0m\u001b[0m\n\u001b[0m",
            "\u001b[0;31mAttributeError\u001b[0m: 'Sequential' object has no attribute 'predict_classes'"
          ]
        }
      ]
    },
    {
      "cell_type": "code",
      "source": [
        "# Klasyfikacja wieloklasowa\n",
        "data = np.random.random((10000,150))\n",
        "labels = np.random.randint(10, size=(10000,1))\n",
        "print(data.shape)\n",
        "print(labels.shape)"
      ],
      "metadata": {
        "colab": {
          "base_uri": "https://localhost:8080/"
        },
        "id": "WBqjeBdXr2Mc",
        "outputId": "9ab0f674-ed89-4a5d-a24d-bf3769e86143"
      },
      "execution_count": 28,
      "outputs": [
        {
          "output_type": "stream",
          "name": "stdout",
          "text": [
            "(10000, 150)\n",
            "(10000, 1)\n"
          ]
        }
      ]
    },
    {
      "cell_type": "code",
      "source": [
        "# Zmiana label na kategorie (tyle num classes ile kategorii label)\n",
        "from tensorflow.keras.utils import to_categorical\n",
        "labels = to_categorical(labels, num_classes = 10)\n",
        "labels"
      ],
      "metadata": {
        "colab": {
          "base_uri": "https://localhost:8080/"
        },
        "id": "_AeT7nTasA3D",
        "outputId": "bd18eeab-fd4f-4a49-dab8-aa11bc55f574"
      },
      "execution_count": 29,
      "outputs": [
        {
          "output_type": "execute_result",
          "data": {
            "text/plain": [
              "array([[0., 0., 0., ..., 0., 0., 1.],\n",
              "       [0., 0., 0., ..., 0., 0., 0.],\n",
              "       [0., 0., 0., ..., 1., 0., 0.],\n",
              "       ...,\n",
              "       [0., 0., 0., ..., 0., 0., 0.],\n",
              "       [0., 0., 0., ..., 1., 0., 0.],\n",
              "       [0., 0., 0., ..., 0., 0., 0.]], dtype=float32)"
            ]
          },
          "metadata": {},
          "execution_count": 29
        }
      ]
    },
    {
      "cell_type": "code",
      "source": [
        "# Tworzenie modelu, w 2 sense podajemy tyle ile mamy kategorii\n",
        "model = Sequential()\n",
        "model.add(Dense(units=32, activation='relu', input_shape=(150,)))\n",
        "model.add(Dense(units=10, activation='softmax'))\n",
        "model.compile(optimizer = 'rmsprop',\n",
        "              loss='categorical_crossentropy',\n",
        "              metrics=['accuracy'])\n",
        "model.fit(data, labels, batch_size=32, epochs=100, validation_split=0.2)"
      ],
      "metadata": {
        "colab": {
          "base_uri": "https://localhost:8080/"
        },
        "id": "nJ4MXDf8sPgw",
        "outputId": "e4053052-2d49-48bc-e6e3-b2b487924d59"
      },
      "execution_count": 31,
      "outputs": [
        {
          "output_type": "stream",
          "name": "stdout",
          "text": [
            "Epoch 1/100\n",
            "250/250 [==============================] - 1s 3ms/step - loss: 2.3170 - accuracy: 0.0949 - val_loss: 2.3022 - val_accuracy: 0.1060\n",
            "Epoch 2/100\n",
            "250/250 [==============================] - 1s 3ms/step - loss: 2.3031 - accuracy: 0.1070 - val_loss: 2.3023 - val_accuracy: 0.1050\n",
            "Epoch 3/100\n",
            "250/250 [==============================] - 1s 2ms/step - loss: 2.3012 - accuracy: 0.1061 - val_loss: 2.3049 - val_accuracy: 0.1105\n",
            "Epoch 4/100\n",
            "250/250 [==============================] - 1s 2ms/step - loss: 2.2993 - accuracy: 0.1107 - val_loss: 2.3030 - val_accuracy: 0.1155\n",
            "Epoch 5/100\n",
            "250/250 [==============================] - 1s 2ms/step - loss: 2.2964 - accuracy: 0.1184 - val_loss: 2.3098 - val_accuracy: 0.1140\n",
            "Epoch 6/100\n",
            "250/250 [==============================] - 1s 2ms/step - loss: 2.2935 - accuracy: 0.1192 - val_loss: 2.3059 - val_accuracy: 0.1160\n",
            "Epoch 7/100\n",
            "250/250 [==============================] - 1s 2ms/step - loss: 2.2927 - accuracy: 0.1240 - val_loss: 2.3067 - val_accuracy: 0.1115\n",
            "Epoch 8/100\n",
            "250/250 [==============================] - 1s 2ms/step - loss: 2.2883 - accuracy: 0.1277 - val_loss: 2.3101 - val_accuracy: 0.1085\n",
            "Epoch 9/100\n",
            "250/250 [==============================] - 1s 3ms/step - loss: 2.2846 - accuracy: 0.1279 - val_loss: 2.3141 - val_accuracy: 0.1135\n",
            "Epoch 10/100\n",
            "250/250 [==============================] - 1s 3ms/step - loss: 2.2807 - accuracy: 0.1320 - val_loss: 2.3076 - val_accuracy: 0.1205\n",
            "Epoch 11/100\n",
            "250/250 [==============================] - 1s 3ms/step - loss: 2.2760 - accuracy: 0.1395 - val_loss: 2.3153 - val_accuracy: 0.1070\n",
            "Epoch 12/100\n",
            "250/250 [==============================] - 1s 2ms/step - loss: 2.2701 - accuracy: 0.1395 - val_loss: 2.3152 - val_accuracy: 0.1060\n",
            "Epoch 13/100\n",
            "250/250 [==============================] - 1s 2ms/step - loss: 2.2658 - accuracy: 0.1490 - val_loss: 2.3157 - val_accuracy: 0.1025\n",
            "Epoch 14/100\n",
            "250/250 [==============================] - 1s 3ms/step - loss: 2.2613 - accuracy: 0.1475 - val_loss: 2.3222 - val_accuracy: 0.1170\n",
            "Epoch 15/100\n",
            "250/250 [==============================] - 1s 3ms/step - loss: 2.2555 - accuracy: 0.1573 - val_loss: 2.3220 - val_accuracy: 0.1265\n",
            "Epoch 16/100\n",
            "250/250 [==============================] - 1s 4ms/step - loss: 2.2501 - accuracy: 0.1591 - val_loss: 2.3234 - val_accuracy: 0.1100\n",
            "Epoch 17/100\n",
            "250/250 [==============================] - 1s 3ms/step - loss: 2.2444 - accuracy: 0.1628 - val_loss: 2.3318 - val_accuracy: 0.1095\n",
            "Epoch 18/100\n",
            "250/250 [==============================] - 1s 2ms/step - loss: 2.2401 - accuracy: 0.1634 - val_loss: 2.3366 - val_accuracy: 0.1100\n",
            "Epoch 19/100\n",
            "250/250 [==============================] - 1s 3ms/step - loss: 2.2349 - accuracy: 0.1656 - val_loss: 2.3420 - val_accuracy: 0.0950\n",
            "Epoch 20/100\n",
            "250/250 [==============================] - 1s 2ms/step - loss: 2.2305 - accuracy: 0.1675 - val_loss: 2.3505 - val_accuracy: 0.1010\n",
            "Epoch 21/100\n",
            "250/250 [==============================] - 1s 3ms/step - loss: 2.2252 - accuracy: 0.1793 - val_loss: 2.3389 - val_accuracy: 0.1140\n",
            "Epoch 22/100\n",
            "250/250 [==============================] - 1s 3ms/step - loss: 2.2199 - accuracy: 0.1803 - val_loss: 2.3522 - val_accuracy: 0.1005\n",
            "Epoch 23/100\n",
            "250/250 [==============================] - 1s 3ms/step - loss: 2.2154 - accuracy: 0.1810 - val_loss: 2.3504 - val_accuracy: 0.1020\n",
            "Epoch 24/100\n",
            "250/250 [==============================] - 1s 2ms/step - loss: 2.2105 - accuracy: 0.1876 - val_loss: 2.3734 - val_accuracy: 0.1085\n",
            "Epoch 25/100\n",
            "250/250 [==============================] - 1s 2ms/step - loss: 2.2066 - accuracy: 0.1867 - val_loss: 2.3830 - val_accuracy: 0.0960\n",
            "Epoch 26/100\n",
            "250/250 [==============================] - 1s 2ms/step - loss: 2.2017 - accuracy: 0.1893 - val_loss: 2.3793 - val_accuracy: 0.1080\n",
            "Epoch 27/100\n",
            "250/250 [==============================] - 1s 2ms/step - loss: 2.1974 - accuracy: 0.1895 - val_loss: 2.3747 - val_accuracy: 0.1010\n",
            "Epoch 28/100\n",
            "250/250 [==============================] - 1s 2ms/step - loss: 2.1909 - accuracy: 0.1965 - val_loss: 2.3647 - val_accuracy: 0.1070\n",
            "Epoch 29/100\n",
            "250/250 [==============================] - 1s 2ms/step - loss: 2.1869 - accuracy: 0.1937 - val_loss: 2.3683 - val_accuracy: 0.1055\n",
            "Epoch 30/100\n",
            "250/250 [==============================] - 1s 2ms/step - loss: 2.1829 - accuracy: 0.2027 - val_loss: 2.3782 - val_accuracy: 0.1125\n",
            "Epoch 31/100\n",
            "250/250 [==============================] - 1s 3ms/step - loss: 2.1799 - accuracy: 0.2017 - val_loss: 2.3853 - val_accuracy: 0.1055\n",
            "Epoch 32/100\n",
            "250/250 [==============================] - 1s 3ms/step - loss: 2.1761 - accuracy: 0.2026 - val_loss: 2.3825 - val_accuracy: 0.1035\n",
            "Epoch 33/100\n",
            "250/250 [==============================] - 1s 4ms/step - loss: 2.1724 - accuracy: 0.2072 - val_loss: 2.3864 - val_accuracy: 0.1000\n",
            "Epoch 34/100\n",
            "250/250 [==============================] - 1s 4ms/step - loss: 2.1682 - accuracy: 0.2095 - val_loss: 2.3951 - val_accuracy: 0.1015\n",
            "Epoch 35/100\n",
            "250/250 [==============================] - 1s 3ms/step - loss: 2.1634 - accuracy: 0.2086 - val_loss: 2.4063 - val_accuracy: 0.1015\n",
            "Epoch 36/100\n",
            "250/250 [==============================] - 1s 2ms/step - loss: 2.1611 - accuracy: 0.2107 - val_loss: 2.3965 - val_accuracy: 0.0955\n",
            "Epoch 37/100\n",
            "250/250 [==============================] - 1s 2ms/step - loss: 2.1571 - accuracy: 0.2135 - val_loss: 2.4188 - val_accuracy: 0.1035\n",
            "Epoch 38/100\n",
            "250/250 [==============================] - 1s 2ms/step - loss: 2.1533 - accuracy: 0.2161 - val_loss: 2.4182 - val_accuracy: 0.0960\n",
            "Epoch 39/100\n",
            "250/250 [==============================] - 1s 2ms/step - loss: 2.1507 - accuracy: 0.2227 - val_loss: 2.4264 - val_accuracy: 0.1020\n",
            "Epoch 40/100\n",
            "250/250 [==============================] - 1s 2ms/step - loss: 2.1465 - accuracy: 0.2205 - val_loss: 2.4373 - val_accuracy: 0.1045\n",
            "Epoch 41/100\n",
            "250/250 [==============================] - 1s 2ms/step - loss: 2.1425 - accuracy: 0.2181 - val_loss: 2.4270 - val_accuracy: 0.0995\n",
            "Epoch 42/100\n",
            "250/250 [==============================] - 1s 2ms/step - loss: 2.1403 - accuracy: 0.2246 - val_loss: 2.4208 - val_accuracy: 0.0995\n",
            "Epoch 43/100\n",
            "250/250 [==============================] - 1s 3ms/step - loss: 2.1372 - accuracy: 0.2250 - val_loss: 2.4375 - val_accuracy: 0.0980\n",
            "Epoch 44/100\n",
            "250/250 [==============================] - 1s 2ms/step - loss: 2.1337 - accuracy: 0.2274 - val_loss: 2.4585 - val_accuracy: 0.0905\n",
            "Epoch 45/100\n",
            "250/250 [==============================] - 1s 2ms/step - loss: 2.1315 - accuracy: 0.2281 - val_loss: 2.4378 - val_accuracy: 0.0950\n",
            "Epoch 46/100\n",
            "250/250 [==============================] - 1s 2ms/step - loss: 2.1269 - accuracy: 0.2260 - val_loss: 2.4546 - val_accuracy: 0.0965\n",
            "Epoch 47/100\n",
            "250/250 [==============================] - 1s 2ms/step - loss: 2.1260 - accuracy: 0.2295 - val_loss: 2.4688 - val_accuracy: 0.1005\n",
            "Epoch 48/100\n",
            "250/250 [==============================] - 1s 2ms/step - loss: 2.1225 - accuracy: 0.2325 - val_loss: 2.4688 - val_accuracy: 0.0965\n",
            "Epoch 49/100\n",
            "250/250 [==============================] - 1s 2ms/step - loss: 2.1214 - accuracy: 0.2351 - val_loss: 2.4729 - val_accuracy: 0.1010\n",
            "Epoch 50/100\n",
            "250/250 [==============================] - 1s 2ms/step - loss: 2.1191 - accuracy: 0.2315 - val_loss: 2.4561 - val_accuracy: 0.0980\n",
            "Epoch 51/100\n",
            "250/250 [==============================] - 1s 2ms/step - loss: 2.1161 - accuracy: 0.2336 - val_loss: 2.4611 - val_accuracy: 0.1035\n",
            "Epoch 52/100\n",
            "250/250 [==============================] - 1s 3ms/step - loss: 2.1142 - accuracy: 0.2316 - val_loss: 2.4814 - val_accuracy: 0.0985\n",
            "Epoch 53/100\n",
            "250/250 [==============================] - 1s 4ms/step - loss: 2.1124 - accuracy: 0.2320 - val_loss: 2.4824 - val_accuracy: 0.1000\n",
            "Epoch 54/100\n",
            "250/250 [==============================] - 1s 4ms/step - loss: 2.1093 - accuracy: 0.2380 - val_loss: 2.4984 - val_accuracy: 0.0920\n",
            "Epoch 55/100\n",
            "250/250 [==============================] - 1s 2ms/step - loss: 2.1067 - accuracy: 0.2371 - val_loss: 2.4948 - val_accuracy: 0.0985\n",
            "Epoch 56/100\n",
            "250/250 [==============================] - 1s 3ms/step - loss: 2.1062 - accuracy: 0.2383 - val_loss: 2.5029 - val_accuracy: 0.0985\n",
            "Epoch 57/100\n",
            "250/250 [==============================] - 1s 3ms/step - loss: 2.1031 - accuracy: 0.2381 - val_loss: 2.5138 - val_accuracy: 0.0925\n",
            "Epoch 58/100\n",
            "250/250 [==============================] - 1s 2ms/step - loss: 2.1009 - accuracy: 0.2428 - val_loss: 2.4981 - val_accuracy: 0.0980\n",
            "Epoch 59/100\n",
            "250/250 [==============================] - 1s 2ms/step - loss: 2.0993 - accuracy: 0.2426 - val_loss: 2.5085 - val_accuracy: 0.0930\n",
            "Epoch 60/100\n",
            "250/250 [==============================] - 1s 2ms/step - loss: 2.0978 - accuracy: 0.2385 - val_loss: 2.5182 - val_accuracy: 0.1005\n",
            "Epoch 61/100\n",
            "250/250 [==============================] - 1s 3ms/step - loss: 2.0951 - accuracy: 0.2399 - val_loss: 2.5094 - val_accuracy: 0.0940\n",
            "Epoch 62/100\n",
            "250/250 [==============================] - 1s 2ms/step - loss: 2.0948 - accuracy: 0.2418 - val_loss: 2.5215 - val_accuracy: 0.0990\n",
            "Epoch 63/100\n",
            "250/250 [==============================] - 1s 2ms/step - loss: 2.0940 - accuracy: 0.2447 - val_loss: 2.5261 - val_accuracy: 0.1030\n",
            "Epoch 64/100\n",
            "250/250 [==============================] - 1s 2ms/step - loss: 2.0893 - accuracy: 0.2414 - val_loss: 2.5253 - val_accuracy: 0.1055\n",
            "Epoch 65/100\n",
            "250/250 [==============================] - 1s 2ms/step - loss: 2.0902 - accuracy: 0.2422 - val_loss: 2.5186 - val_accuracy: 0.0960\n",
            "Epoch 66/100\n",
            "250/250 [==============================] - 1s 2ms/step - loss: 2.0867 - accuracy: 0.2447 - val_loss: 2.5483 - val_accuracy: 0.0985\n",
            "Epoch 67/100\n",
            "250/250 [==============================] - 1s 2ms/step - loss: 2.0867 - accuracy: 0.2466 - val_loss: 2.5473 - val_accuracy: 0.0965\n",
            "Epoch 68/100\n",
            "250/250 [==============================] - 1s 2ms/step - loss: 2.0854 - accuracy: 0.2470 - val_loss: 2.5263 - val_accuracy: 0.1010\n",
            "Epoch 69/100\n",
            "250/250 [==============================] - 1s 2ms/step - loss: 2.0848 - accuracy: 0.2412 - val_loss: 2.5333 - val_accuracy: 0.0950\n",
            "Epoch 70/100\n",
            "250/250 [==============================] - 1s 2ms/step - loss: 2.0808 - accuracy: 0.2511 - val_loss: 2.5508 - val_accuracy: 0.0960\n",
            "Epoch 71/100\n",
            "250/250 [==============================] - 1s 3ms/step - loss: 2.0781 - accuracy: 0.2491 - val_loss: 2.5747 - val_accuracy: 0.0940\n",
            "Epoch 72/100\n",
            "250/250 [==============================] - 1s 3ms/step - loss: 2.0793 - accuracy: 0.2505 - val_loss: 2.5641 - val_accuracy: 0.0955\n",
            "Epoch 73/100\n",
            "250/250 [==============================] - 1s 4ms/step - loss: 2.0779 - accuracy: 0.2434 - val_loss: 2.5687 - val_accuracy: 0.1000\n",
            "Epoch 74/100\n",
            "250/250 [==============================] - 1s 3ms/step - loss: 2.0755 - accuracy: 0.2486 - val_loss: 2.5691 - val_accuracy: 0.0945\n",
            "Epoch 75/100\n",
            "250/250 [==============================] - 1s 2ms/step - loss: 2.0756 - accuracy: 0.2499 - val_loss: 2.5749 - val_accuracy: 0.0980\n",
            "Epoch 76/100\n",
            "250/250 [==============================] - 1s 5ms/step - loss: 2.0748 - accuracy: 0.2481 - val_loss: 2.5631 - val_accuracy: 0.0955\n",
            "Epoch 77/100\n",
            "250/250 [==============================] - 1s 2ms/step - loss: 2.0708 - accuracy: 0.2506 - val_loss: 2.5899 - val_accuracy: 0.0950\n",
            "Epoch 78/100\n",
            "250/250 [==============================] - 1s 2ms/step - loss: 2.0709 - accuracy: 0.2489 - val_loss: 2.5926 - val_accuracy: 0.0975\n",
            "Epoch 79/100\n",
            "250/250 [==============================] - 1s 2ms/step - loss: 2.0686 - accuracy: 0.2512 - val_loss: 2.5834 - val_accuracy: 0.0950\n",
            "Epoch 80/100\n",
            "250/250 [==============================] - 1s 2ms/step - loss: 2.0680 - accuracy: 0.2490 - val_loss: 2.5761 - val_accuracy: 0.1010\n",
            "Epoch 81/100\n",
            "250/250 [==============================] - 1s 2ms/step - loss: 2.0673 - accuracy: 0.2477 - val_loss: 2.5686 - val_accuracy: 0.0985\n",
            "Epoch 82/100\n",
            "250/250 [==============================] - 1s 3ms/step - loss: 2.0670 - accuracy: 0.2558 - val_loss: 2.6053 - val_accuracy: 0.0955\n",
            "Epoch 83/100\n",
            "250/250 [==============================] - 1s 2ms/step - loss: 2.0671 - accuracy: 0.2504 - val_loss: 2.6081 - val_accuracy: 0.0985\n",
            "Epoch 84/100\n",
            "250/250 [==============================] - 1s 3ms/step - loss: 2.0633 - accuracy: 0.2521 - val_loss: 2.5974 - val_accuracy: 0.0985\n",
            "Epoch 85/100\n",
            "250/250 [==============================] - 1s 3ms/step - loss: 2.0612 - accuracy: 0.2554 - val_loss: 2.5924 - val_accuracy: 0.0975\n",
            "Epoch 86/100\n",
            "250/250 [==============================] - 1s 2ms/step - loss: 2.0631 - accuracy: 0.2517 - val_loss: 2.5938 - val_accuracy: 0.0955\n",
            "Epoch 87/100\n",
            "250/250 [==============================] - 1s 3ms/step - loss: 2.0586 - accuracy: 0.2508 - val_loss: 2.6015 - val_accuracy: 0.0965\n",
            "Epoch 88/100\n",
            "250/250 [==============================] - 1s 2ms/step - loss: 2.0569 - accuracy: 0.2590 - val_loss: 2.6036 - val_accuracy: 0.0965\n",
            "Epoch 89/100\n",
            "250/250 [==============================] - 1s 3ms/step - loss: 2.0587 - accuracy: 0.2514 - val_loss: 2.6388 - val_accuracy: 0.0950\n",
            "Epoch 90/100\n",
            "250/250 [==============================] - 1s 4ms/step - loss: 2.0567 - accuracy: 0.2541 - val_loss: 2.6184 - val_accuracy: 0.0950\n",
            "Epoch 91/100\n",
            "250/250 [==============================] - 1s 4ms/step - loss: 2.0564 - accuracy: 0.2531 - val_loss: 2.6210 - val_accuracy: 0.0990\n",
            "Epoch 92/100\n",
            "250/250 [==============================] - 1s 3ms/step - loss: 2.0532 - accuracy: 0.2517 - val_loss: 2.6199 - val_accuracy: 0.1020\n",
            "Epoch 93/100\n",
            "250/250 [==============================] - 1s 2ms/step - loss: 2.0527 - accuracy: 0.2545 - val_loss: 2.6295 - val_accuracy: 0.0990\n",
            "Epoch 94/100\n",
            "250/250 [==============================] - 1s 3ms/step - loss: 2.0510 - accuracy: 0.2546 - val_loss: 2.6238 - val_accuracy: 0.0935\n",
            "Epoch 95/100\n",
            "250/250 [==============================] - 1s 2ms/step - loss: 2.0500 - accuracy: 0.2574 - val_loss: 2.6347 - val_accuracy: 0.0945\n",
            "Epoch 96/100\n",
            "250/250 [==============================] - 1s 2ms/step - loss: 2.0479 - accuracy: 0.2575 - val_loss: 2.6338 - val_accuracy: 0.0930\n",
            "Epoch 97/100\n",
            "250/250 [==============================] - 1s 2ms/step - loss: 2.0498 - accuracy: 0.2578 - val_loss: 2.6717 - val_accuracy: 0.0920\n",
            "Epoch 98/100\n",
            "250/250 [==============================] - 1s 3ms/step - loss: 2.0479 - accuracy: 0.2590 - val_loss: 2.6578 - val_accuracy: 0.0995\n",
            "Epoch 99/100\n",
            "250/250 [==============================] - 1s 2ms/step - loss: 2.0487 - accuracy: 0.2550 - val_loss: 2.6364 - val_accuracy: 0.0980\n",
            "Epoch 100/100\n",
            "250/250 [==============================] - 1s 2ms/step - loss: 2.0443 - accuracy: 0.2578 - val_loss: 2.6372 - val_accuracy: 0.0955\n"
          ]
        },
        {
          "output_type": "execute_result",
          "data": {
            "text/plain": [
              "<keras.src.callbacks.History at 0x780597bf2320>"
            ]
          },
          "metadata": {},
          "execution_count": 31
        }
      ]
    },
    {
      "cell_type": "code",
      "source": [
        "# Predykcja\n",
        "test_data = np.random.random((10,150))\n",
        "model.predict(test_data)"
      ],
      "metadata": {
        "colab": {
          "base_uri": "https://localhost:8080/"
        },
        "id": "s_LH4QEJszYh",
        "outputId": "2fdce67d-ad82-4a4a-f023-e29a813e7481"
      },
      "execution_count": 32,
      "outputs": [
        {
          "output_type": "stream",
          "name": "stdout",
          "text": [
            "1/1 [==============================] - 0s 50ms/step\n"
          ]
        },
        {
          "output_type": "execute_result",
          "data": {
            "text/plain": [
              "array([[0.05589352, 0.06905862, 0.05376695, 0.0290498 , 0.04188811,\n",
              "        0.0731651 , 0.325908  , 0.13832884, 0.18060456, 0.03233642],\n",
              "       [0.18086775, 0.0443685 , 0.11037591, 0.09935786, 0.09335784,\n",
              "        0.09800753, 0.13527247, 0.06605341, 0.05294606, 0.11939272],\n",
              "       [0.14259787, 0.05869931, 0.14034654, 0.12085475, 0.26062402,\n",
              "        0.08129185, 0.09594265, 0.08425331, 0.01274914, 0.0026405 ],\n",
              "       [0.0802227 , 0.07483833, 0.21282783, 0.13410677, 0.05097378,\n",
              "        0.09829967, 0.08893631, 0.05983998, 0.01536301, 0.18459168],\n",
              "       [0.09037089, 0.09638129, 0.02646888, 0.06219784, 0.14785883,\n",
              "        0.04243986, 0.07540458, 0.07605005, 0.25449672, 0.12833108],\n",
              "       [0.18840225, 0.05369713, 0.05449452, 0.10492469, 0.04990921,\n",
              "        0.31983626, 0.12328111, 0.03386025, 0.06209445, 0.00949996],\n",
              "       [0.08232749, 0.09799156, 0.12307724, 0.05967594, 0.11428797,\n",
              "        0.077441  , 0.1187627 , 0.08639816, 0.10530576, 0.13473223],\n",
              "       [0.18760824, 0.0274785 , 0.04272082, 0.1159618 , 0.08102224,\n",
              "        0.1058626 , 0.14782253, 0.07036944, 0.14534946, 0.07580433],\n",
              "       [0.06166184, 0.12546352, 0.09108901, 0.06995018, 0.21273452,\n",
              "        0.06211792, 0.11482575, 0.07511426, 0.10230793, 0.08473506],\n",
              "       [0.34416163, 0.070434  , 0.19492266, 0.14786817, 0.06130137,\n",
              "        0.04930733, 0.01237513, 0.01905783, 0.02860145, 0.07197042]],\n",
              "      dtype=float32)"
            ]
          },
          "metadata": {},
          "execution_count": 32
        }
      ]
    }
  ]
}