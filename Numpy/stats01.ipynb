{
  "nbformat": 4,
  "nbformat_minor": 0,
  "metadata": {
    "colab": {
      "provenance": [],
      "authorship_tag": "ABX9TyNXLSrzyElIU8RdQCYjojU1",
      "include_colab_link": true
    },
    "kernelspec": {
      "name": "python3",
      "display_name": "Python 3"
    },
    "language_info": {
      "name": "python"
    }
  },
  "cells": [
    {
      "cell_type": "markdown",
      "metadata": {
        "id": "view-in-github",
        "colab_type": "text"
      },
      "source": [
        "<a href=\"https://colab.research.google.com/github/JakubDemeszko/ML_Course/blob/main/Numpy/stats01.ipynb\" target=\"_parent\"><img src=\"https://colab.research.google.com/assets/colab-badge.svg\" alt=\"Open In Colab\"/></a>"
      ]
    },
    {
      "cell_type": "code",
      "execution_count": 2,
      "metadata": {
        "colab": {
          "base_uri": "https://localhost:8080/"
        },
        "id": "FOFBx5yfIPh3",
        "outputId": "e6b1dac1-ecdb-430d-ef48-11c304b2e715"
      },
      "outputs": [
        {
          "output_type": "stream",
          "name": "stdout",
          "text": [
            "[3.  4.6 5.  4.5 3. ]\n"
          ]
        }
      ],
      "source": [
        "import numpy as np\n",
        "\n",
        "X = np.array([3, 4.6, 5, 4.5, 3])\n",
        "print(X)"
      ]
    },
    {
      "cell_type": "code",
      "source": [
        "# Average\n",
        "X.mean()"
      ],
      "metadata": {
        "colab": {
          "base_uri": "https://localhost:8080/"
        },
        "id": "IybYCt0HIn-Y",
        "outputId": "670fec19-22ea-4cf3-dbad-222700a5451d"
      },
      "execution_count": 3,
      "outputs": [
        {
          "output_type": "execute_result",
          "data": {
            "text/plain": [
              "4.0200000000000005"
            ]
          },
          "metadata": {},
          "execution_count": 3
        }
      ]
    },
    {
      "cell_type": "code",
      "source": [
        "# Median\n",
        "np.median(X)"
      ],
      "metadata": {
        "colab": {
          "base_uri": "https://localhost:8080/"
        },
        "id": "Mr4Ta2GmJM37",
        "outputId": "26925874-187a-4d6e-db28-456cf27cd50e"
      },
      "execution_count": 7,
      "outputs": [
        {
          "output_type": "execute_result",
          "data": {
            "text/plain": [
              "4.5"
            ]
          },
          "metadata": {},
          "execution_count": 7
        }
      ]
    },
    {
      "cell_type": "code",
      "source": [
        "# Average mistake - calculating by diff between N - Xmean sum / N elements\n",
        "X = [3, 6, 8, 4]\n",
        "X_mean = np.mean(X)\n",
        "b_X = 1 / len(X) * (abs(X - X_mean).sum())\n",
        "b_X"
      ],
      "metadata": {
        "colab": {
          "base_uri": "https://localhost:8080/"
        },
        "id": "AP08vLFQJiBR",
        "outputId": "17abc544-995e-47d5-d921-e81b88a2ea91"
      },
      "execution_count": 9,
      "outputs": [
        {
          "output_type": "execute_result",
          "data": {
            "text/plain": [
              "1.75"
            ]
          },
          "metadata": {},
          "execution_count": 9
        }
      ]
    },
    {
      "cell_type": "code",
      "source": [
        "# Variance and standard deviation\n",
        "\n",
        "var_X = 1 / len(X) * ((X - X_mean)**2).sum()\n",
        "std_X = np.sqrt(var_X)\n",
        "\n",
        "print(var_X, '\\n')\n",
        "print(std_X)"
      ],
      "metadata": {
        "colab": {
          "base_uri": "https://localhost:8080/"
        },
        "id": "euz4rPRbKeZe",
        "outputId": "ff302891-a452-4ae6-8695-33325ddaa1dc"
      },
      "execution_count": 13,
      "outputs": [
        {
          "output_type": "stream",
          "name": "stdout",
          "text": [
            "3.6875 \n",
            "\n",
            "1.920286436967152\n"
          ]
        }
      ]
    },
    {
      "cell_type": "code",
      "source": [
        "# Standard deviation\n",
        "np.std(X)"
      ],
      "metadata": {
        "colab": {
          "base_uri": "https://localhost:8080/"
        },
        "id": "PQknrP7hLyaH",
        "outputId": "247d7491-d9d0-4bc2-d8a1-378870bfbf9b"
      },
      "execution_count": 14,
      "outputs": [
        {
          "output_type": "execute_result",
          "data": {
            "text/plain": [
              "1.920286436967152"
            ]
          },
          "metadata": {},
          "execution_count": 14
        }
      ]
    },
    {
      "cell_type": "code",
      "source": [
        "# Probability - our expected N number in total Omega - p(a) = N / Omega_N\n",
        "omega = {1, 2, 3, 4, 5, 6}\n",
        "A = {item for item in omega if item % 2 == 0}\n",
        "P_A = len(A) / len(omega)\n",
        "P_A"
      ],
      "metadata": {
        "colab": {
          "base_uri": "https://localhost:8080/"
        },
        "id": "z7d93WDLL2RF",
        "outputId": "6787ae6d-7177-438b-c728-a79e2e6d1b90"
      },
      "execution_count": 15,
      "outputs": [
        {
          "output_type": "execute_result",
          "data": {
            "text/plain": [
              "0.5"
            ]
          },
          "metadata": {},
          "execution_count": 15
        }
      ]
    },
    {
      "cell_type": "code",
      "source": [],
      "metadata": {
        "id": "Xw5UswE1ODrP"
      },
      "execution_count": null,
      "outputs": []
    }
  ]
}